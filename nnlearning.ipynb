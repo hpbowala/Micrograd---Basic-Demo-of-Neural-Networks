{
  "nbformat": 4,
  "nbformat_minor": 0,
  "metadata": {
    "colab": {
      "provenance": [],
      "authorship_tag": "ABX9TyNKFS1j8aStIZCzMP82yYT8",
      "include_colab_link": true
    },
    "kernelspec": {
      "name": "python3",
      "display_name": "Python 3"
    },
    "language_info": {
      "name": "python"
    }
  },
  "cells": [
    {
      "cell_type": "markdown",
      "metadata": {
        "id": "view-in-github",
        "colab_type": "text"
      },
      "source": [
        "<a href=\"https://colab.research.google.com/github/hpbowala/Micrograd---Basic-Demo-of-Neural-Networks/blob/main/nnlearning.ipynb\" target=\"_parent\"><img src=\"https://colab.research.google.com/assets/colab-badge.svg\" alt=\"Open In Colab\"/></a>"
      ]
    },
    {
      "cell_type": "code",
      "source": [
        "import math\n",
        "import numpy as np\n",
        "import matplotlib.pyplot as plt\n",
        "%matplotlib inline"
      ],
      "metadata": {
        "id": "_ukTrvellvMe"
      },
      "execution_count": 1,
      "outputs": []
    },
    {
      "cell_type": "code",
      "source": [
        "from graphviz import Digraph"
      ],
      "metadata": {
        "id": "GkzDM0ck9EoU"
      },
      "execution_count": 19,
      "outputs": []
    },
    {
      "cell_type": "code",
      "source": [
        "def trace(root):\n",
        "  # builds a set of all nodes and edges in a graph\n",
        "  nodes, edges = set(), set()\n",
        "  def build(v):\n",
        "    if v not in nodes:\n",
        "      nodes.add(v)\n",
        "      for child in v._prev:\n",
        "        edges.add((child, v))\n",
        "        build(child)\n",
        "  build(root)\n",
        "  return nodes, edges\n",
        "\n",
        "def draw_dot(root):\n",
        "  dot = Digraph(format='svg', graph_attr={'rankdir': 'LR'}) # LR = left to right\n",
        "  \n",
        "  nodes, edges = trace(root)\n",
        "  for n in nodes:\n",
        "    uid = str(id(n))\n",
        "    # for any value in the graph, create a rectangular ('record') node for it\n",
        "    dot.node(name = uid, label = \"{ %s | data %.4f | grad %.4f }\" % (n.label, n.data, n.grad), shape='record')\n",
        "    if n._op:\n",
        "      # if this value is a result of some operation, create an op node for it\n",
        "      dot.node(name = uid + n._op, label = n._op)\n",
        "      # and connect this node to it\n",
        "      dot.edge(uid + n._op, uid)\n",
        "\n",
        "  for n1, n2 in edges:\n",
        "    # connect n1 to the op node of n2\n",
        "    dot.edge(str(id(n1)), str(id(n2)) + n2._op)\n",
        "\n",
        "  return dot"
      ],
      "metadata": {
        "id": "vzYjjXj19LtQ"
      },
      "execution_count": 21,
      "outputs": []
    },
    {
      "cell_type": "code",
      "source": [],
      "metadata": {
        "id": "ZaDxP39lmU_f"
      },
      "execution_count": null,
      "outputs": []
    },
    {
      "cell_type": "code",
      "execution_count": 88,
      "metadata": {
        "id": "tBPZmemji0xw"
      },
      "outputs": [],
      "source": [
        "class Value:\n",
        "  def __init__(self,data,_children=(),_op=\"\",label=\"\"):\n",
        "    self.data = data\n",
        "    self.grad = 0.0\n",
        "    self._backward = lambda : None\n",
        "    self._prev = set(_children)\n",
        "    self._op = _op\n",
        "    self.label = label\n",
        "\n",
        "  def __repr__(self):\n",
        "    return f\"Value(data={self.data})\"\n",
        "\n",
        "  def __add__(self,other):\n",
        "\n",
        "    out = Value(self.data + other.data, (self,other),'+')\n",
        "\n",
        "    # self + other = out \n",
        "    def _backward():\n",
        "      self.grad += 1.0 * out.grad\n",
        "      other.grad += 1.0 * out.grad\n",
        "\n",
        "    out._backward = _backward\n",
        "\n",
        "    return out\n",
        "\n",
        "  def __mul__(self,other):\n",
        "    out = Value(self.data * other.data, (self,other), \"*\")\n",
        "\n",
        "    def _backward():\n",
        "      self.grad += other.data * out.grad\n",
        "      other.grad += self.data * out.grad\n",
        "\n",
        "    out._backward = _backward\n",
        "    return out\n",
        "\n",
        "  def tanh(self):\n",
        "    x = self.data\n",
        "    t= (math.exp(2*x) - 1)/(math.exp(2*x) + 1)\n",
        "    out = Value (t, (self, ), 'tanh')\n",
        "\n",
        "    def _backward():\n",
        "      self.grad = (1-t**2) * out.grad\n",
        "\n",
        "    out._backward = _backward\n",
        "\n",
        "    return out\n",
        "    \n",
        "      "
      ]
    },
    {
      "cell_type": "code",
      "source": [
        "a = Value(2.0)\n",
        "b = Value(3.0)\n",
        "d = Value(4.0)\n",
        "c = a * b\n",
        "e = d + c\n",
        "\n",
        "\n",
        "\n",
        "a.label = 'a'\n",
        "b.label = 'b'\n",
        "c.label = 'c'\n",
        "d.label = 'd'\n",
        "e.label = 'e'\n",
        "\n",
        "l = e.tanh()\n",
        "\n",
        "l.label = 'l'\n"
      ],
      "metadata": {
        "colab": {
          "base_uri": "https://localhost:8080/"
        },
        "id": "DNTV-tjt4YxP",
        "outputId": "3f80a62c-454f-4882-e1f8-1cfb5acc48dc"
      },
      "execution_count": 68,
      "outputs": [
        {
          "output_type": "stream",
          "name": "stdout",
          "text": [
            "0.0\n"
          ]
        }
      ]
    },
    {
      "cell_type": "code",
      "source": [
        "a = Value(2.0, label='a')\n",
        "b = Value(-3.0, label='b')\n",
        "c = Value(10.0, label='c')\n",
        "e = a*b; e.label = 'e'\n",
        "d = e + c; d.label = 'd'\n",
        "f = Value(-2.0, label='f')\n",
        "L = d * f\n",
        "L.label = 'L'\n",
        "\n"
      ],
      "metadata": {
        "id": "yrwJ-rsWOgZ5"
      },
      "execution_count": 73,
      "outputs": []
    },
    {
      "cell_type": "code",
      "source": [
        "# dy/dx = f(x+h) - f(x)/h  \n",
        "# L = d*f\n",
        "#L.grad = dL/df\n",
        "# f((f+h)d) - f(d*f) / h\n",
        "# = df + dh - df /h\n",
        "# = dh/h\n",
        "# = d\n",
        "L.grad = 1.0\n",
        "\n",
        "# f.grad = d\n",
        "f.grad = 4\n",
        "d.grad = -2\n",
        "\n",
        "'''\n",
        "d= e+c\n",
        "dd/de\n",
        "((e+h)+c) - (e+c)/h\n",
        "h/h = 1\n",
        "'''\n",
        "\n",
        "'''\n",
        "dL/de = dL/dd * dd/de\n",
        "= -2 * 1\n",
        "=-2\n",
        "'''\n",
        "\n",
        "e.grad = -2"
      ],
      "metadata": {
        "id": "TgbRfMjzQycw"
      },
      "execution_count": 86,
      "outputs": []
    },
    {
      "cell_type": "code",
      "source": [
        "draw_dot(L)"
      ],
      "metadata": {
        "colab": {
          "base_uri": "https://localhost:8080/",
          "height": 250
        },
        "id": "D627grcz53MZ",
        "outputId": "4e416876-2224-4b84-bd7c-11431e2aef6d"
      },
      "execution_count": 87,
      "outputs": [
        {
          "output_type": "execute_result",
          "data": {
            "text/plain": [
              "<graphviz.dot.Digraph at 0x7f38ef7e8f40>"
            ],
            "image/svg+xml": "<?xml version=\"1.0\" encoding=\"UTF-8\" standalone=\"no\"?>\n<!DOCTYPE svg PUBLIC \"-//W3C//DTD SVG 1.1//EN\"\n \"http://www.w3.org/Graphics/SVG/1.1/DTD/svg11.dtd\">\n<!-- Generated by graphviz version 2.43.0 (0)\n -->\n<!-- Title: %3 Pages: 1 -->\n<svg width=\"1151pt\" height=\"156pt\"\n viewBox=\"0.00 0.00 1151.00 156.00\" xmlns=\"http://www.w3.org/2000/svg\" xmlns:xlink=\"http://www.w3.org/1999/xlink\">\n<g id=\"graph0\" class=\"graph\" transform=\"scale(1 1) rotate(0) translate(4 152)\">\n<title>%3</title>\n<polygon fill=\"white\" stroke=\"transparent\" points=\"-4,4 -4,-152 1147,-152 1147,4 -4,4\"/>\n<!-- 139882512902656 -->\n<g id=\"node1\" class=\"node\">\n<title>139882512902656</title>\n<polygon fill=\"none\" stroke=\"black\" points=\"0,-111.5 0,-147.5 190,-147.5 190,-111.5 0,-111.5\"/>\n<text text-anchor=\"middle\" x=\"11.5\" y=\"-125.8\" font-family=\"Times,serif\" font-size=\"14.00\">b</text>\n<polyline fill=\"none\" stroke=\"black\" points=\"23,-111.5 23,-147.5 \"/>\n<text text-anchor=\"middle\" x=\"65.5\" y=\"-125.8\" font-family=\"Times,serif\" font-size=\"14.00\">data &#45;3.0000</text>\n<polyline fill=\"none\" stroke=\"black\" points=\"108,-111.5 108,-147.5 \"/>\n<text text-anchor=\"middle\" x=\"149\" y=\"-125.8\" font-family=\"Times,serif\" font-size=\"14.00\">grad 0.0000</text>\n</g>\n<!-- 139882512903712* -->\n<g id=\"node3\" class=\"node\">\n<title>139882512903712*</title>\n<ellipse fill=\"none\" stroke=\"black\" cx=\"253\" cy=\"-101.5\" rx=\"27\" ry=\"18\"/>\n<text text-anchor=\"middle\" x=\"253\" y=\"-97.8\" font-family=\"Times,serif\" font-size=\"14.00\">*</text>\n</g>\n<!-- 139882512902656&#45;&gt;139882512903712* -->\n<g id=\"edge7\" class=\"edge\">\n<title>139882512902656&#45;&gt;139882512903712*</title>\n<path fill=\"none\" stroke=\"black\" d=\"M190.34,-112.57C199.62,-110.9 208.58,-109.29 216.66,-107.84\"/>\n<polygon fill=\"black\" stroke=\"black\" points=\"217.49,-111.25 226.72,-106.04 216.26,-104.36 217.49,-111.25\"/>\n</g>\n<!-- 139882512903712 -->\n<g id=\"node2\" class=\"node\">\n<title>139882512903712</title>\n<polygon fill=\"none\" stroke=\"black\" points=\"316,-83.5 316,-119.5 510,-119.5 510,-83.5 316,-83.5\"/>\n<text text-anchor=\"middle\" x=\"327.5\" y=\"-97.8\" font-family=\"Times,serif\" font-size=\"14.00\">e</text>\n<polyline fill=\"none\" stroke=\"black\" points=\"339,-83.5 339,-119.5 \"/>\n<text text-anchor=\"middle\" x=\"381.5\" y=\"-97.8\" font-family=\"Times,serif\" font-size=\"14.00\">data &#45;6.0000</text>\n<polyline fill=\"none\" stroke=\"black\" points=\"424,-83.5 424,-119.5 \"/>\n<text text-anchor=\"middle\" x=\"467\" y=\"-97.8\" font-family=\"Times,serif\" font-size=\"14.00\">grad &#45;2.0000</text>\n</g>\n<!-- 139882512903232+ -->\n<g id=\"node5\" class=\"node\">\n<title>139882512903232+</title>\n<ellipse fill=\"none\" stroke=\"black\" cx=\"573\" cy=\"-73.5\" rx=\"27\" ry=\"18\"/>\n<text text-anchor=\"middle\" x=\"573\" y=\"-69.8\" font-family=\"Times,serif\" font-size=\"14.00\">+</text>\n</g>\n<!-- 139882512903712&#45;&gt;139882512903232+ -->\n<g id=\"edge9\" class=\"edge\">\n<title>139882512903712&#45;&gt;139882512903232+</title>\n<path fill=\"none\" stroke=\"black\" d=\"M510.01,-84.49C519.35,-82.83 528.37,-81.23 536.49,-79.79\"/>\n<polygon fill=\"black\" stroke=\"black\" points=\"537.37,-83.19 546.6,-78 536.15,-76.3 537.37,-83.19\"/>\n</g>\n<!-- 139882512903712*&#45;&gt;139882512903712 -->\n<g id=\"edge1\" class=\"edge\">\n<title>139882512903712*&#45;&gt;139882512903712</title>\n<path fill=\"none\" stroke=\"black\" d=\"M280.09,-101.5C287.62,-101.5 296.34,-101.5 305.63,-101.5\"/>\n<polygon fill=\"black\" stroke=\"black\" points=\"305.92,-105 315.92,-101.5 305.92,-98 305.92,-105\"/>\n</g>\n<!-- 139882512903232 -->\n<g id=\"node4\" class=\"node\">\n<title>139882512903232</title>\n<polygon fill=\"none\" stroke=\"black\" points=\"636,-55.5 636,-91.5 825,-91.5 825,-55.5 636,-55.5\"/>\n<text text-anchor=\"middle\" x=\"647.5\" y=\"-69.8\" font-family=\"Times,serif\" font-size=\"14.00\">d</text>\n<polyline fill=\"none\" stroke=\"black\" points=\"659,-55.5 659,-91.5 \"/>\n<text text-anchor=\"middle\" x=\"699\" y=\"-69.8\" font-family=\"Times,serif\" font-size=\"14.00\">data 4.0000</text>\n<polyline fill=\"none\" stroke=\"black\" points=\"739,-55.5 739,-91.5 \"/>\n<text text-anchor=\"middle\" x=\"782\" y=\"-69.8\" font-family=\"Times,serif\" font-size=\"14.00\">grad &#45;2.0000</text>\n</g>\n<!-- 139882512847008* -->\n<g id=\"node8\" class=\"node\">\n<title>139882512847008*</title>\n<ellipse fill=\"none\" stroke=\"black\" cx=\"888\" cy=\"-45.5\" rx=\"27\" ry=\"18\"/>\n<text text-anchor=\"middle\" x=\"888\" y=\"-41.8\" font-family=\"Times,serif\" font-size=\"14.00\">*</text>\n</g>\n<!-- 139882512903232&#45;&gt;139882512847008* -->\n<g id=\"edge5\" class=\"edge\">\n<title>139882512903232&#45;&gt;139882512847008*</title>\n<path fill=\"none\" stroke=\"black\" d=\"M825.1,-56.65C834.4,-54.97 843.38,-53.35 851.49,-51.89\"/>\n<polygon fill=\"black\" stroke=\"black\" points=\"852.37,-55.29 861.59,-50.07 851.13,-48.4 852.37,-55.29\"/>\n</g>\n<!-- 139882512903232+&#45;&gt;139882512903232 -->\n<g id=\"edge2\" class=\"edge\">\n<title>139882512903232+&#45;&gt;139882512903232</title>\n<path fill=\"none\" stroke=\"black\" d=\"M600.03,-73.5C607.66,-73.5 616.52,-73.5 625.94,-73.5\"/>\n<polygon fill=\"black\" stroke=\"black\" points=\"625.94,-77 635.94,-73.5 625.94,-70 625.94,-77\"/>\n</g>\n<!-- 139882512902224 -->\n<g id=\"node6\" class=\"node\">\n<title>139882512902224</title>\n<polygon fill=\"none\" stroke=\"black\" points=\"317,-28.5 317,-64.5 509,-64.5 509,-28.5 317,-28.5\"/>\n<text text-anchor=\"middle\" x=\"328.5\" y=\"-42.8\" font-family=\"Times,serif\" font-size=\"14.00\">c</text>\n<polyline fill=\"none\" stroke=\"black\" points=\"340,-28.5 340,-64.5 \"/>\n<text text-anchor=\"middle\" x=\"383.5\" y=\"-42.8\" font-family=\"Times,serif\" font-size=\"14.00\">data 10.0000</text>\n<polyline fill=\"none\" stroke=\"black\" points=\"427,-28.5 427,-64.5 \"/>\n<text text-anchor=\"middle\" x=\"468\" y=\"-42.8\" font-family=\"Times,serif\" font-size=\"14.00\">grad 0.0000</text>\n</g>\n<!-- 139882512902224&#45;&gt;139882512903232+ -->\n<g id=\"edge8\" class=\"edge\">\n<title>139882512902224&#45;&gt;139882512903232+</title>\n<path fill=\"none\" stroke=\"black\" d=\"M509.1,-62.75C518.75,-64.4 528.07,-65.99 536.44,-67.42\"/>\n<polygon fill=\"black\" stroke=\"black\" points=\"536.04,-70.91 546.49,-69.14 537.22,-64.01 536.04,-70.91\"/>\n</g>\n<!-- 139882512847008 -->\n<g id=\"node7\" class=\"node\">\n<title>139882512847008</title>\n<polygon fill=\"none\" stroke=\"black\" points=\"951,-27.5 951,-63.5 1143,-63.5 1143,-27.5 951,-27.5\"/>\n<text text-anchor=\"middle\" x=\"963.5\" y=\"-41.8\" font-family=\"Times,serif\" font-size=\"14.00\">L</text>\n<polyline fill=\"none\" stroke=\"black\" points=\"976,-27.5 976,-63.5 \"/>\n<text text-anchor=\"middle\" x=\"1018.5\" y=\"-41.8\" font-family=\"Times,serif\" font-size=\"14.00\">data &#45;8.0000</text>\n<polyline fill=\"none\" stroke=\"black\" points=\"1061,-27.5 1061,-63.5 \"/>\n<text text-anchor=\"middle\" x=\"1102\" y=\"-41.8\" font-family=\"Times,serif\" font-size=\"14.00\">grad 1.0000</text>\n</g>\n<!-- 139882512847008*&#45;&gt;139882512847008 -->\n<g id=\"edge3\" class=\"edge\">\n<title>139882512847008*&#45;&gt;139882512847008</title>\n<path fill=\"none\" stroke=\"black\" d=\"M915.28,-45.5C922.78,-45.5 931.44,-45.5 940.67,-45.5\"/>\n<polygon fill=\"black\" stroke=\"black\" points=\"940.87,-49 950.87,-45.5 940.87,-42 940.87,-49\"/>\n</g>\n<!-- 139882512900448 -->\n<g id=\"node9\" class=\"node\">\n<title>139882512900448</title>\n<polygon fill=\"none\" stroke=\"black\" points=\"636.5,-0.5 636.5,-36.5 824.5,-36.5 824.5,-0.5 636.5,-0.5\"/>\n<text text-anchor=\"middle\" x=\"647\" y=\"-14.8\" font-family=\"Times,serif\" font-size=\"14.00\">f</text>\n<polyline fill=\"none\" stroke=\"black\" points=\"657.5,-0.5 657.5,-36.5 \"/>\n<text text-anchor=\"middle\" x=\"700\" y=\"-14.8\" font-family=\"Times,serif\" font-size=\"14.00\">data &#45;2.0000</text>\n<polyline fill=\"none\" stroke=\"black\" points=\"742.5,-0.5 742.5,-36.5 \"/>\n<text text-anchor=\"middle\" x=\"783.5\" y=\"-14.8\" font-family=\"Times,serif\" font-size=\"14.00\">grad 4.0000</text>\n</g>\n<!-- 139882512900448&#45;&gt;139882512847008* -->\n<g id=\"edge4\" class=\"edge\">\n<title>139882512900448&#45;&gt;139882512847008*</title>\n<path fill=\"none\" stroke=\"black\" d=\"M824.65,-34.67C834.2,-36.33 843.43,-37.93 851.72,-39.37\"/>\n<polygon fill=\"black\" stroke=\"black\" points=\"851.24,-42.84 861.69,-41.11 852.44,-35.95 851.24,-42.84\"/>\n</g>\n<!-- 139882512904048 -->\n<g id=\"node10\" class=\"node\">\n<title>139882512904048</title>\n<polygon fill=\"none\" stroke=\"black\" points=\"2.5,-56.5 2.5,-92.5 187.5,-92.5 187.5,-56.5 2.5,-56.5\"/>\n<text text-anchor=\"middle\" x=\"14\" y=\"-70.8\" font-family=\"Times,serif\" font-size=\"14.00\">a</text>\n<polyline fill=\"none\" stroke=\"black\" points=\"25.5,-56.5 25.5,-92.5 \"/>\n<text text-anchor=\"middle\" x=\"65.5\" y=\"-70.8\" font-family=\"Times,serif\" font-size=\"14.00\">data 2.0000</text>\n<polyline fill=\"none\" stroke=\"black\" points=\"105.5,-56.5 105.5,-92.5 \"/>\n<text text-anchor=\"middle\" x=\"146.5\" y=\"-70.8\" font-family=\"Times,serif\" font-size=\"14.00\">grad 0.0000</text>\n</g>\n<!-- 139882512904048&#45;&gt;139882512903712* -->\n<g id=\"edge6\" class=\"edge\">\n<title>139882512904048&#45;&gt;139882512903712*</title>\n<path fill=\"none\" stroke=\"black\" d=\"M187.65,-90.36C197.94,-92.14 207.91,-93.87 216.81,-95.41\"/>\n<polygon fill=\"black\" stroke=\"black\" points=\"216.26,-98.87 226.71,-97.12 217.45,-91.97 216.26,-98.87\"/>\n</g>\n</g>\n</svg>\n"
          },
          "metadata": {},
          "execution_count": 87
        }
      ]
    },
    {
      "cell_type": "code",
      "source": [
        "a.data += 0.01 * a.grad\n",
        "b.data += 0.01 * b.grad\n",
        "c.data += 0.01 * c.grad\n",
        "f.data += 0.01 * f.grad\n",
        "\n",
        "e = a * b\n",
        "d = e + c\n",
        "L = d * f\n",
        "\n",
        "print(L.data)"
      ],
      "metadata": {
        "colab": {
          "base_uri": "https://localhost:8080/"
        },
        "id": "Bzdy6HIwPE8n",
        "outputId": "d8bb52ff-a61d-4f17-e8db-df41fa332221"
      },
      "execution_count": 119,
      "outputs": [
        {
          "output_type": "stream",
          "name": "stdout",
          "text": [
            "-5.494271999999997\n"
          ]
        }
      ]
    },
    {
      "cell_type": "code",
      "source": [],
      "metadata": {
        "id": "Fuz3gPbiZGmR"
      },
      "execution_count": null,
      "outputs": []
    },
    {
      "cell_type": "code",
      "source": [
        "a = Value(2.0, label='a')\n",
        "b = Value(-3.0, label='b')\n",
        "c = Value(10.0, label='c')\n",
        "e = a*b; e.label = 'e'\n",
        "d = e + c; d.label = 'd'\n",
        "f = Value(-2.0, label='f')\n",
        "L = d * f\n",
        "L.label = 'L'\n",
        "\n",
        "\n",
        "\n"
      ],
      "metadata": {
        "id": "5WKAxVoOZIGz"
      },
      "execution_count": 103,
      "outputs": []
    },
    {
      "cell_type": "code",
      "source": [
        "L.grad = 1\n",
        "L._backward()\n",
        "d._backward()\n",
        "e._backward()"
      ],
      "metadata": {
        "id": "aKgTvJgsbyDe"
      },
      "execution_count": null,
      "outputs": []
    },
    {
      "cell_type": "code",
      "source": [
        "from types import BuiltinFunctionType\n",
        "#using topological sort to call each backward functions \n",
        "\n",
        "topo = []\n",
        "visited = set()\n",
        "def build_topo(v):\n",
        "  if v not in visited:\n",
        "    visited.add(v)\n",
        "    for child in v._prev:\n",
        "      build_topo(child)\n",
        "    topo.append(v)\n",
        "\n",
        "build_topo(L)\n",
        "L.grad = 1.0\n",
        "for item in reversed(topo):\n",
        "  item._backward()"
      ],
      "metadata": {
        "id": "v4yQyFD3a1PY"
      },
      "execution_count": 117,
      "outputs": []
    },
    {
      "cell_type": "code",
      "source": [
        "draw_dot(L)"
      ],
      "metadata": {
        "colab": {
          "base_uri": "https://localhost:8080/",
          "height": 247
        },
        "id": "jcIRPWo1ZKur",
        "outputId": "dfc07d68-118f-4b70-a1a1-759141c229ed"
      },
      "execution_count": 118,
      "outputs": [
        {
          "output_type": "execute_result",
          "data": {
            "text/plain": [
              "<graphviz.dot.Digraph at 0x7f38ef7d1100>"
            ],
            "image/svg+xml": "<?xml version=\"1.0\" encoding=\"UTF-8\" standalone=\"no\"?>\n<!DOCTYPE svg PUBLIC \"-//W3C//DTD SVG 1.1//EN\"\n \"http://www.w3.org/Graphics/SVG/1.1/DTD/svg11.dtd\">\n<!-- Generated by graphviz version 2.43.0 (0)\n -->\n<!-- Title: %3 Pages: 1 -->\n<svg width=\"1164pt\" height=\"154pt\"\n viewBox=\"0.00 0.00 1164.00 154.00\" xmlns=\"http://www.w3.org/2000/svg\" xmlns:xlink=\"http://www.w3.org/1999/xlink\">\n<g id=\"graph0\" class=\"graph\" transform=\"scale(1 1) rotate(0) translate(4 150)\">\n<title>%3</title>\n<polygon fill=\"white\" stroke=\"transparent\" points=\"-4,4 -4,-150 1160,-150 1160,4 -4,4\"/>\n<!-- 139882514778384 -->\n<g id=\"node1\" class=\"node\">\n<title>139882514778384</title>\n<polygon fill=\"none\" stroke=\"black\" points=\"328,-27.5 328,-63.5 522,-63.5 522,-27.5 328,-27.5\"/>\n<text text-anchor=\"middle\" x=\"339.5\" y=\"-41.8\" font-family=\"Times,serif\" font-size=\"14.00\">e</text>\n<polyline fill=\"none\" stroke=\"black\" points=\"351,-27.5 351,-63.5 \"/>\n<text text-anchor=\"middle\" x=\"393.5\" y=\"-41.8\" font-family=\"Times,serif\" font-size=\"14.00\">data &#45;6.0000</text>\n<polyline fill=\"none\" stroke=\"black\" points=\"436,-27.5 436,-63.5 \"/>\n<text text-anchor=\"middle\" x=\"479\" y=\"-41.8\" font-family=\"Times,serif\" font-size=\"14.00\">grad &#45;6.0000</text>\n</g>\n<!-- 139882512850752+ -->\n<g id=\"node5\" class=\"node\">\n<title>139882512850752+</title>\n<ellipse fill=\"none\" stroke=\"black\" cx=\"586\" cy=\"-72.5\" rx=\"27\" ry=\"18\"/>\n<text text-anchor=\"middle\" x=\"586\" y=\"-68.8\" font-family=\"Times,serif\" font-size=\"14.00\">+</text>\n</g>\n<!-- 139882514778384&#45;&gt;139882512850752+ -->\n<g id=\"edge7\" class=\"edge\">\n<title>139882514778384&#45;&gt;139882512850752+</title>\n<path fill=\"none\" stroke=\"black\" d=\"M522.16,-61.83C531.82,-63.47 541.13,-65.05 549.49,-66.47\"/>\n<polygon fill=\"black\" stroke=\"black\" points=\"549.09,-69.95 559.54,-68.18 550.26,-63.05 549.09,-69.95\"/>\n</g>\n<!-- 139882514778384* -->\n<g id=\"node2\" class=\"node\">\n<title>139882514778384*</title>\n<ellipse fill=\"none\" stroke=\"black\" cx=\"264\" cy=\"-45.5\" rx=\"27\" ry=\"18\"/>\n<text text-anchor=\"middle\" x=\"264\" y=\"-41.8\" font-family=\"Times,serif\" font-size=\"14.00\">*</text>\n</g>\n<!-- 139882514778384*&#45;&gt;139882514778384 -->\n<g id=\"edge1\" class=\"edge\">\n<title>139882514778384*&#45;&gt;139882514778384</title>\n<path fill=\"none\" stroke=\"black\" d=\"M291.26,-45.5C299.05,-45.5 308.1,-45.5 317.75,-45.5\"/>\n<polygon fill=\"black\" stroke=\"black\" points=\"317.99,-49 327.99,-45.5 317.99,-42 317.99,-49\"/>\n</g>\n<!-- 139882514779920 -->\n<g id=\"node3\" class=\"node\">\n<title>139882514779920</title>\n<polygon fill=\"none\" stroke=\"black\" points=\"327,-82.5 327,-118.5 523,-118.5 523,-82.5 327,-82.5\"/>\n<text text-anchor=\"middle\" x=\"338.5\" y=\"-96.8\" font-family=\"Times,serif\" font-size=\"14.00\">c</text>\n<polyline fill=\"none\" stroke=\"black\" points=\"350,-82.5 350,-118.5 \"/>\n<text text-anchor=\"middle\" x=\"393.5\" y=\"-96.8\" font-family=\"Times,serif\" font-size=\"14.00\">data 10.0000</text>\n<polyline fill=\"none\" stroke=\"black\" points=\"437,-82.5 437,-118.5 \"/>\n<text text-anchor=\"middle\" x=\"480\" y=\"-96.8\" font-family=\"Times,serif\" font-size=\"14.00\">grad &#45;6.0000</text>\n</g>\n<!-- 139882514779920&#45;&gt;139882512850752+ -->\n<g id=\"edge6\" class=\"edge\">\n<title>139882514779920&#45;&gt;139882512850752+</title>\n<path fill=\"none\" stroke=\"black\" d=\"M523.07,-83.41C532.42,-81.76 541.43,-80.17 549.55,-78.74\"/>\n<polygon fill=\"black\" stroke=\"black\" points=\"550.41,-82.15 559.65,-76.96 549.2,-75.25 550.41,-82.15\"/>\n</g>\n<!-- 139882512850752 -->\n<g id=\"node4\" class=\"node\">\n<title>139882512850752</title>\n<polygon fill=\"none\" stroke=\"black\" points=\"649,-54.5 649,-90.5 838,-90.5 838,-54.5 649,-54.5\"/>\n<text text-anchor=\"middle\" x=\"660.5\" y=\"-68.8\" font-family=\"Times,serif\" font-size=\"14.00\">d</text>\n<polyline fill=\"none\" stroke=\"black\" points=\"672,-54.5 672,-90.5 \"/>\n<text text-anchor=\"middle\" x=\"712\" y=\"-68.8\" font-family=\"Times,serif\" font-size=\"14.00\">data 4.0000</text>\n<polyline fill=\"none\" stroke=\"black\" points=\"752,-54.5 752,-90.5 \"/>\n<text text-anchor=\"middle\" x=\"795\" y=\"-68.8\" font-family=\"Times,serif\" font-size=\"14.00\">grad &#45;4.0000</text>\n</g>\n<!-- 139882512847344* -->\n<g id=\"node10\" class=\"node\">\n<title>139882512847344*</title>\n<ellipse fill=\"none\" stroke=\"black\" cx=\"901\" cy=\"-99.5\" rx=\"27\" ry=\"18\"/>\n<text text-anchor=\"middle\" x=\"901\" y=\"-95.8\" font-family=\"Times,serif\" font-size=\"14.00\">*</text>\n</g>\n<!-- 139882512850752&#45;&gt;139882512847344* -->\n<g id=\"edge9\" class=\"edge\">\n<title>139882512850752&#45;&gt;139882512847344*</title>\n<path fill=\"none\" stroke=\"black\" d=\"M838.1,-88.75C847.4,-90.37 856.38,-91.93 864.49,-93.33\"/>\n<polygon fill=\"black\" stroke=\"black\" points=\"864.14,-96.83 874.59,-95.09 865.34,-89.93 864.14,-96.83\"/>\n</g>\n<!-- 139882512850752+&#45;&gt;139882512850752 -->\n<g id=\"edge2\" class=\"edge\">\n<title>139882512850752+&#45;&gt;139882512850752</title>\n<path fill=\"none\" stroke=\"black\" d=\"M613.03,-72.5C620.66,-72.5 629.52,-72.5 638.94,-72.5\"/>\n<polygon fill=\"black\" stroke=\"black\" points=\"638.94,-76 648.94,-72.5 638.94,-69 638.94,-76\"/>\n</g>\n<!-- 139882514779488 -->\n<g id=\"node6\" class=\"node\">\n<title>139882514779488</title>\n<polygon fill=\"none\" stroke=\"black\" points=\"0,-55.5 0,-91.5 201,-91.5 201,-55.5 0,-55.5\"/>\n<text text-anchor=\"middle\" x=\"11.5\" y=\"-69.8\" font-family=\"Times,serif\" font-size=\"14.00\">b</text>\n<polyline fill=\"none\" stroke=\"black\" points=\"23,-55.5 23,-91.5 \"/>\n<text text-anchor=\"middle\" x=\"65.5\" y=\"-69.8\" font-family=\"Times,serif\" font-size=\"14.00\">data &#45;3.0000</text>\n<polyline fill=\"none\" stroke=\"black\" points=\"108,-55.5 108,-91.5 \"/>\n<text text-anchor=\"middle\" x=\"154.5\" y=\"-69.8\" font-family=\"Times,serif\" font-size=\"14.00\">grad &#45;16.0000</text>\n</g>\n<!-- 139882514779488&#45;&gt;139882514778384* -->\n<g id=\"edge8\" class=\"edge\">\n<title>139882514779488&#45;&gt;139882514778384*</title>\n<path fill=\"none\" stroke=\"black\" d=\"M201.02,-56.25C210.41,-54.62 219.44,-53.05 227.56,-51.64\"/>\n<polygon fill=\"black\" stroke=\"black\" points=\"228.42,-55.05 237.68,-49.89 227.23,-48.15 228.42,-55.05\"/>\n</g>\n<!-- 139882514776992 -->\n<g id=\"node7\" class=\"node\">\n<title>139882514776992</title>\n<polygon fill=\"none\" stroke=\"black\" points=\"4.5,-0.5 4.5,-36.5 196.5,-36.5 196.5,-0.5 4.5,-0.5\"/>\n<text text-anchor=\"middle\" x=\"16\" y=\"-14.8\" font-family=\"Times,serif\" font-size=\"14.00\">a</text>\n<polyline fill=\"none\" stroke=\"black\" points=\"27.5,-0.5 27.5,-36.5 \"/>\n<text text-anchor=\"middle\" x=\"67.5\" y=\"-14.8\" font-family=\"Times,serif\" font-size=\"14.00\">data 2.0000</text>\n<polyline fill=\"none\" stroke=\"black\" points=\"107.5,-0.5 107.5,-36.5 \"/>\n<text text-anchor=\"middle\" x=\"152\" y=\"-14.8\" font-family=\"Times,serif\" font-size=\"14.00\">grad 24.0000</text>\n</g>\n<!-- 139882514776992&#45;&gt;139882514778384* -->\n<g id=\"edge5\" class=\"edge\">\n<title>139882514776992&#45;&gt;139882514778384*</title>\n<path fill=\"none\" stroke=\"black\" d=\"M196.85,-34.44C207.76,-36.27 218.31,-38.03 227.66,-39.59\"/>\n<polygon fill=\"black\" stroke=\"black\" points=\"227.21,-43.07 237.65,-41.26 228.37,-36.16 227.21,-43.07\"/>\n</g>\n<!-- 139882512849360 -->\n<g id=\"node8\" class=\"node\">\n<title>139882512849360</title>\n<polygon fill=\"none\" stroke=\"black\" points=\"649.5,-109.5 649.5,-145.5 837.5,-145.5 837.5,-109.5 649.5,-109.5\"/>\n<text text-anchor=\"middle\" x=\"660\" y=\"-123.8\" font-family=\"Times,serif\" font-size=\"14.00\">f</text>\n<polyline fill=\"none\" stroke=\"black\" points=\"670.5,-109.5 670.5,-145.5 \"/>\n<text text-anchor=\"middle\" x=\"713\" y=\"-123.8\" font-family=\"Times,serif\" font-size=\"14.00\">data &#45;2.0000</text>\n<polyline fill=\"none\" stroke=\"black\" points=\"755.5,-109.5 755.5,-145.5 \"/>\n<text text-anchor=\"middle\" x=\"796.5\" y=\"-123.8\" font-family=\"Times,serif\" font-size=\"14.00\">grad 8.0000</text>\n</g>\n<!-- 139882512849360&#45;&gt;139882512847344* -->\n<g id=\"edge4\" class=\"edge\">\n<title>139882512849360&#45;&gt;139882512847344*</title>\n<path fill=\"none\" stroke=\"black\" d=\"M837.65,-110.73C847.2,-109.01 856.43,-107.35 864.72,-105.85\"/>\n<polygon fill=\"black\" stroke=\"black\" points=\"865.47,-109.27 874.69,-104.06 864.23,-102.39 865.47,-109.27\"/>\n</g>\n<!-- 139882512847344 -->\n<g id=\"node9\" class=\"node\">\n<title>139882512847344</title>\n<polygon fill=\"none\" stroke=\"black\" points=\"964,-81.5 964,-117.5 1156,-117.5 1156,-81.5 964,-81.5\"/>\n<text text-anchor=\"middle\" x=\"976.5\" y=\"-95.8\" font-family=\"Times,serif\" font-size=\"14.00\">L</text>\n<polyline fill=\"none\" stroke=\"black\" points=\"989,-81.5 989,-117.5 \"/>\n<text text-anchor=\"middle\" x=\"1031.5\" y=\"-95.8\" font-family=\"Times,serif\" font-size=\"14.00\">data &#45;8.0000</text>\n<polyline fill=\"none\" stroke=\"black\" points=\"1074,-81.5 1074,-117.5 \"/>\n<text text-anchor=\"middle\" x=\"1115\" y=\"-95.8\" font-family=\"Times,serif\" font-size=\"14.00\">grad 1.0000</text>\n</g>\n<!-- 139882512847344*&#45;&gt;139882512847344 -->\n<g id=\"edge3\" class=\"edge\">\n<title>139882512847344*&#45;&gt;139882512847344</title>\n<path fill=\"none\" stroke=\"black\" d=\"M928.28,-99.5C935.78,-99.5 944.44,-99.5 953.67,-99.5\"/>\n<polygon fill=\"black\" stroke=\"black\" points=\"953.87,-103 963.87,-99.5 953.87,-96 953.87,-103\"/>\n</g>\n</g>\n</svg>\n"
          },
          "metadata": {},
          "execution_count": 118
        }
      ]
    },
    {
      "cell_type": "code",
      "source": [
        "class Value:\n",
        "  def __init__(self,data,_children=(),_op=\"\",label=\"\"):\n",
        "    self.data = data\n",
        "    self.grad = 0.0\n",
        "    self._backward = lambda : None\n",
        "    self._prev = set(_children)\n",
        "    self._op = _op\n",
        "    self.label = label\n",
        "\n",
        "  def __repr__(self):\n",
        "    return f\"Value(data={self.data})\"\n",
        "\n",
        "  def __add__(self,other):\n",
        "\n",
        "    out = Value(self.data + other.data, (self,other),'+')\n",
        "\n",
        "    # self + other = out \n",
        "    def _backward():\n",
        "      self.grad += 1.0 * out.grad\n",
        "      other.grad += 1.0 * out.grad\n",
        "\n",
        "    out._backward = _backward\n",
        "\n",
        "    return out\n",
        "\n",
        "  def __mul__(self,other):\n",
        "    out = Value(self.data * other.data, (self,other), \"*\")\n",
        "\n",
        "    def _backward():\n",
        "      self.grad += other.data * out.grad\n",
        "      other.grad += self.data * out.grad\n",
        "\n",
        "    out._backward = _backward\n",
        "    return out\n",
        "\n",
        "  def tanh(self):\n",
        "    x = self.data\n",
        "    t= (math.exp(2*x) - 1)/(math.exp(2*x) + 1)\n",
        "    out = Value (t, (self, ), 'tanh')\n",
        "\n",
        "    def _backward():\n",
        "      self.grad = (1-t**2) * out.grad\n",
        "\n",
        "    out._backward = _backward\n",
        "\n",
        "    return out\n",
        "    \n",
        "  def backward(self):\n",
        "    topo = []\n",
        "    visited = set()\n",
        "    def build_topo(v):\n",
        "      if v not in visited:\n",
        "        visited.add(v)\n",
        "        for child in v._prev:\n",
        "          build_topo(child)\n",
        "        topo.append(v)\n",
        "\n",
        "    build_topo(self)\n",
        "    self.grad = 1.0\n",
        "    for item in reversed(topo):\n",
        "      item._backward()\n",
        "\n",
        "      "
      ],
      "metadata": {
        "id": "5a_EQO6UZTOr"
      },
      "execution_count": 113,
      "outputs": []
    },
    {
      "cell_type": "code",
      "source": [
        "a = Value(2.0, label='a')\n",
        "b = Value(-3.0, label='b')\n",
        "c = Value(10.0, label='c')\n",
        "e = a*b; e.label = 'e'\n",
        "d = e + c; d.label = 'd'\n",
        "f = Value(-2.0, label='f')\n",
        "L = d * f\n",
        "L.label = 'L'"
      ],
      "metadata": {
        "id": "mzsPBUuuZVyL"
      },
      "execution_count": 122,
      "outputs": []
    },
    {
      "cell_type": "code",
      "source": [
        "L.backward()"
      ],
      "metadata": {
        "id": "7RanALpgeKeT"
      },
      "execution_count": 124,
      "outputs": []
    },
    {
      "cell_type": "code",
      "source": [
        "draw_dot(L)"
      ],
      "metadata": {
        "colab": {
          "base_uri": "https://localhost:8080/",
          "height": 247
        },
        "id": "27RcD0uWef-x",
        "outputId": "dc058987-d4c7-4545-d409-7d30416f023f"
      },
      "execution_count": 125,
      "outputs": [
        {
          "output_type": "execute_result",
          "data": {
            "text/plain": [
              "<graphviz.dot.Digraph at 0x7f38ef93b3d0>"
            ],
            "image/svg+xml": "<?xml version=\"1.0\" encoding=\"UTF-8\" standalone=\"no\"?>\n<!DOCTYPE svg PUBLIC \"-//W3C//DTD SVG 1.1//EN\"\n \"http://www.w3.org/Graphics/SVG/1.1/DTD/svg11.dtd\">\n<!-- Generated by graphviz version 2.43.0 (0)\n -->\n<!-- Title: %3 Pages: 1 -->\n<svg width=\"1157pt\" height=\"154pt\"\n viewBox=\"0.00 0.00 1157.00 154.00\" xmlns=\"http://www.w3.org/2000/svg\" xmlns:xlink=\"http://www.w3.org/1999/xlink\">\n<g id=\"graph0\" class=\"graph\" transform=\"scale(1 1) rotate(0) translate(4 150)\">\n<title>%3</title>\n<polygon fill=\"white\" stroke=\"transparent\" points=\"-4,4 -4,-150 1153,-150 1153,4 -4,4\"/>\n<!-- 139882512942080 -->\n<g id=\"node1\" class=\"node\">\n<title>139882512942080</title>\n<polygon fill=\"none\" stroke=\"black\" points=\"642,-54.5 642,-90.5 831,-90.5 831,-54.5 642,-54.5\"/>\n<text text-anchor=\"middle\" x=\"653.5\" y=\"-68.8\" font-family=\"Times,serif\" font-size=\"14.00\">d</text>\n<polyline fill=\"none\" stroke=\"black\" points=\"665,-54.5 665,-90.5 \"/>\n<text text-anchor=\"middle\" x=\"705\" y=\"-68.8\" font-family=\"Times,serif\" font-size=\"14.00\">data 4.0000</text>\n<polyline fill=\"none\" stroke=\"black\" points=\"745,-54.5 745,-90.5 \"/>\n<text text-anchor=\"middle\" x=\"788\" y=\"-68.8\" font-family=\"Times,serif\" font-size=\"14.00\">grad &#45;2.0000</text>\n</g>\n<!-- 139882512942224* -->\n<g id=\"node4\" class=\"node\">\n<title>139882512942224*</title>\n<ellipse fill=\"none\" stroke=\"black\" cx=\"894\" cy=\"-99.5\" rx=\"27\" ry=\"18\"/>\n<text text-anchor=\"middle\" x=\"894\" y=\"-95.8\" font-family=\"Times,serif\" font-size=\"14.00\">*</text>\n</g>\n<!-- 139882512942080&#45;&gt;139882512942224* -->\n<g id=\"edge5\" class=\"edge\">\n<title>139882512942080&#45;&gt;139882512942224*</title>\n<path fill=\"none\" stroke=\"black\" d=\"M831.1,-88.75C840.4,-90.37 849.38,-91.93 857.49,-93.33\"/>\n<polygon fill=\"black\" stroke=\"black\" points=\"857.14,-96.83 867.59,-95.09 858.34,-89.93 857.14,-96.83\"/>\n</g>\n<!-- 139882512942080+ -->\n<g id=\"node2\" class=\"node\">\n<title>139882512942080+</title>\n<ellipse fill=\"none\" stroke=\"black\" cx=\"579\" cy=\"-72.5\" rx=\"27\" ry=\"18\"/>\n<text text-anchor=\"middle\" x=\"579\" y=\"-68.8\" font-family=\"Times,serif\" font-size=\"14.00\">+</text>\n</g>\n<!-- 139882512942080+&#45;&gt;139882512942080 -->\n<g id=\"edge1\" class=\"edge\">\n<title>139882512942080+&#45;&gt;139882512942080</title>\n<path fill=\"none\" stroke=\"black\" d=\"M606.03,-72.5C613.66,-72.5 622.52,-72.5 631.94,-72.5\"/>\n<polygon fill=\"black\" stroke=\"black\" points=\"631.94,-76 641.94,-72.5 631.94,-69 631.94,-76\"/>\n</g>\n<!-- 139882512942224 -->\n<g id=\"node3\" class=\"node\">\n<title>139882512942224</title>\n<polygon fill=\"none\" stroke=\"black\" points=\"957,-81.5 957,-117.5 1149,-117.5 1149,-81.5 957,-81.5\"/>\n<text text-anchor=\"middle\" x=\"969.5\" y=\"-95.8\" font-family=\"Times,serif\" font-size=\"14.00\">L</text>\n<polyline fill=\"none\" stroke=\"black\" points=\"982,-81.5 982,-117.5 \"/>\n<text text-anchor=\"middle\" x=\"1024.5\" y=\"-95.8\" font-family=\"Times,serif\" font-size=\"14.00\">data &#45;8.0000</text>\n<polyline fill=\"none\" stroke=\"black\" points=\"1067,-81.5 1067,-117.5 \"/>\n<text text-anchor=\"middle\" x=\"1108\" y=\"-95.8\" font-family=\"Times,serif\" font-size=\"14.00\">grad 1.0000</text>\n</g>\n<!-- 139882512942224*&#45;&gt;139882512942224 -->\n<g id=\"edge2\" class=\"edge\">\n<title>139882512942224*&#45;&gt;139882512942224</title>\n<path fill=\"none\" stroke=\"black\" d=\"M921.28,-99.5C928.78,-99.5 937.44,-99.5 946.67,-99.5\"/>\n<polygon fill=\"black\" stroke=\"black\" points=\"946.87,-103 956.87,-99.5 946.87,-96 946.87,-103\"/>\n</g>\n<!-- 139882512942752 -->\n<g id=\"node5\" class=\"node\">\n<title>139882512942752</title>\n<polygon fill=\"none\" stroke=\"black\" points=\"320,-82.5 320,-118.5 516,-118.5 516,-82.5 320,-82.5\"/>\n<text text-anchor=\"middle\" x=\"331.5\" y=\"-96.8\" font-family=\"Times,serif\" font-size=\"14.00\">c</text>\n<polyline fill=\"none\" stroke=\"black\" points=\"343,-82.5 343,-118.5 \"/>\n<text text-anchor=\"middle\" x=\"386.5\" y=\"-96.8\" font-family=\"Times,serif\" font-size=\"14.00\">data 10.0000</text>\n<polyline fill=\"none\" stroke=\"black\" points=\"430,-82.5 430,-118.5 \"/>\n<text text-anchor=\"middle\" x=\"473\" y=\"-96.8\" font-family=\"Times,serif\" font-size=\"14.00\">grad &#45;2.0000</text>\n</g>\n<!-- 139882512942752&#45;&gt;139882512942080+ -->\n<g id=\"edge4\" class=\"edge\">\n<title>139882512942752&#45;&gt;139882512942080+</title>\n<path fill=\"none\" stroke=\"black\" d=\"M516.07,-83.41C525.42,-81.76 534.43,-80.17 542.55,-78.74\"/>\n<polygon fill=\"black\" stroke=\"black\" points=\"543.41,-82.15 552.65,-76.96 542.2,-75.25 543.41,-82.15\"/>\n</g>\n<!-- 139882512943280 -->\n<g id=\"node6\" class=\"node\">\n<title>139882512943280</title>\n<polygon fill=\"none\" stroke=\"black\" points=\"4.5,-55.5 4.5,-91.5 189.5,-91.5 189.5,-55.5 4.5,-55.5\"/>\n<text text-anchor=\"middle\" x=\"16\" y=\"-69.8\" font-family=\"Times,serif\" font-size=\"14.00\">a</text>\n<polyline fill=\"none\" stroke=\"black\" points=\"27.5,-55.5 27.5,-91.5 \"/>\n<text text-anchor=\"middle\" x=\"67.5\" y=\"-69.8\" font-family=\"Times,serif\" font-size=\"14.00\">data 2.0000</text>\n<polyline fill=\"none\" stroke=\"black\" points=\"107.5,-55.5 107.5,-91.5 \"/>\n<text text-anchor=\"middle\" x=\"148.5\" y=\"-69.8\" font-family=\"Times,serif\" font-size=\"14.00\">grad 6.0000</text>\n</g>\n<!-- 139882512943568* -->\n<g id=\"node10\" class=\"node\">\n<title>139882512943568*</title>\n<ellipse fill=\"none\" stroke=\"black\" cx=\"257\" cy=\"-45.5\" rx=\"27\" ry=\"18\"/>\n<text text-anchor=\"middle\" x=\"257\" y=\"-41.8\" font-family=\"Times,serif\" font-size=\"14.00\">*</text>\n</g>\n<!-- 139882512943280&#45;&gt;139882512943568* -->\n<g id=\"edge6\" class=\"edge\">\n<title>139882512943280&#45;&gt;139882512943568*</title>\n<path fill=\"none\" stroke=\"black\" d=\"M189.91,-57.21C200.76,-55.29 211.28,-53.43 220.61,-51.77\"/>\n<polygon fill=\"black\" stroke=\"black\" points=\"221.37,-55.19 230.6,-50 220.15,-48.3 221.37,-55.19\"/>\n</g>\n<!-- 139882512942320 -->\n<g id=\"node7\" class=\"node\">\n<title>139882512942320</title>\n<polygon fill=\"none\" stroke=\"black\" points=\"642.5,-109.5 642.5,-145.5 830.5,-145.5 830.5,-109.5 642.5,-109.5\"/>\n<text text-anchor=\"middle\" x=\"653\" y=\"-123.8\" font-family=\"Times,serif\" font-size=\"14.00\">f</text>\n<polyline fill=\"none\" stroke=\"black\" points=\"663.5,-109.5 663.5,-145.5 \"/>\n<text text-anchor=\"middle\" x=\"706\" y=\"-123.8\" font-family=\"Times,serif\" font-size=\"14.00\">data &#45;2.0000</text>\n<polyline fill=\"none\" stroke=\"black\" points=\"748.5,-109.5 748.5,-145.5 \"/>\n<text text-anchor=\"middle\" x=\"789.5\" y=\"-123.8\" font-family=\"Times,serif\" font-size=\"14.00\">grad 4.0000</text>\n</g>\n<!-- 139882512942320&#45;&gt;139882512942224* -->\n<g id=\"edge7\" class=\"edge\">\n<title>139882512942320&#45;&gt;139882512942224*</title>\n<path fill=\"none\" stroke=\"black\" d=\"M830.65,-110.73C840.2,-109.01 849.43,-107.35 857.72,-105.85\"/>\n<polygon fill=\"black\" stroke=\"black\" points=\"858.47,-109.27 867.69,-104.06 857.23,-102.39 858.47,-109.27\"/>\n</g>\n<!-- 139882512944384 -->\n<g id=\"node8\" class=\"node\">\n<title>139882512944384</title>\n<polygon fill=\"none\" stroke=\"black\" points=\"0,-0.5 0,-36.5 194,-36.5 194,-0.5 0,-0.5\"/>\n<text text-anchor=\"middle\" x=\"11.5\" y=\"-14.8\" font-family=\"Times,serif\" font-size=\"14.00\">b</text>\n<polyline fill=\"none\" stroke=\"black\" points=\"23,-0.5 23,-36.5 \"/>\n<text text-anchor=\"middle\" x=\"65.5\" y=\"-14.8\" font-family=\"Times,serif\" font-size=\"14.00\">data &#45;3.0000</text>\n<polyline fill=\"none\" stroke=\"black\" points=\"108,-0.5 108,-36.5 \"/>\n<text text-anchor=\"middle\" x=\"151\" y=\"-14.8\" font-family=\"Times,serif\" font-size=\"14.00\">grad &#45;4.0000</text>\n</g>\n<!-- 139882512944384&#45;&gt;139882512943568* -->\n<g id=\"edge8\" class=\"edge\">\n<title>139882512944384&#45;&gt;139882512943568*</title>\n<path fill=\"none\" stroke=\"black\" d=\"M194.01,-34.91C203.35,-36.5 212.37,-38.04 220.49,-39.43\"/>\n<polygon fill=\"black\" stroke=\"black\" points=\"220.16,-42.93 230.6,-41.16 221.34,-36.03 220.16,-42.93\"/>\n</g>\n<!-- 139882512943568 -->\n<g id=\"node9\" class=\"node\">\n<title>139882512943568</title>\n<polygon fill=\"none\" stroke=\"black\" points=\"321,-27.5 321,-63.5 515,-63.5 515,-27.5 321,-27.5\"/>\n<text text-anchor=\"middle\" x=\"332.5\" y=\"-41.8\" font-family=\"Times,serif\" font-size=\"14.00\">e</text>\n<polyline fill=\"none\" stroke=\"black\" points=\"344,-27.5 344,-63.5 \"/>\n<text text-anchor=\"middle\" x=\"386.5\" y=\"-41.8\" font-family=\"Times,serif\" font-size=\"14.00\">data &#45;6.0000</text>\n<polyline fill=\"none\" stroke=\"black\" points=\"429,-27.5 429,-63.5 \"/>\n<text text-anchor=\"middle\" x=\"472\" y=\"-41.8\" font-family=\"Times,serif\" font-size=\"14.00\">grad &#45;2.0000</text>\n</g>\n<!-- 139882512943568&#45;&gt;139882512942080+ -->\n<g id=\"edge9\" class=\"edge\">\n<title>139882512943568&#45;&gt;139882512942080+</title>\n<path fill=\"none\" stroke=\"black\" d=\"M515.16,-61.83C524.82,-63.47 534.13,-65.05 542.49,-66.47\"/>\n<polygon fill=\"black\" stroke=\"black\" points=\"542.09,-69.95 552.54,-68.18 543.26,-63.05 542.09,-69.95\"/>\n</g>\n<!-- 139882512943568*&#45;&gt;139882512943568 -->\n<g id=\"edge3\" class=\"edge\">\n<title>139882512943568*&#45;&gt;139882512943568</title>\n<path fill=\"none\" stroke=\"black\" d=\"M284.26,-45.5C292.05,-45.5 301.1,-45.5 310.75,-45.5\"/>\n<polygon fill=\"black\" stroke=\"black\" points=\"310.99,-49 320.99,-45.5 310.99,-42 310.99,-49\"/>\n</g>\n</g>\n</svg>\n"
          },
          "metadata": {},
          "execution_count": 125
        }
      ]
    },
    {
      "cell_type": "code",
      "source": [
        "# Modifying the Finalized Value "
      ],
      "metadata": {
        "id": "QHGVfaTNe8JL"
      },
      "execution_count": null,
      "outputs": []
    }
  ]
}