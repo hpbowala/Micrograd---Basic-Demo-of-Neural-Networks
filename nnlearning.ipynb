{
  "nbformat": 4,
  "nbformat_minor": 0,
  "metadata": {
    "colab": {
      "provenance": [],
      "authorship_tag": "ABX9TyMGMR5AgWJ0e9zFfT/0108j",
      "include_colab_link": true
    },
    "kernelspec": {
      "name": "python3",
      "display_name": "Python 3"
    },
    "language_info": {
      "name": "python"
    }
  },
  "cells": [
    {
      "cell_type": "markdown",
      "metadata": {
        "id": "view-in-github",
        "colab_type": "text"
      },
      "source": [
        "<a href=\"https://colab.research.google.com/github/hpbowala/Micrograd---Basic-Demo-of-Neural-Networks/blob/main/nnlearning.ipynb\" target=\"_parent\"><img src=\"https://colab.research.google.com/assets/colab-badge.svg\" alt=\"Open In Colab\"/></a>"
      ]
    },
    {
      "cell_type": "code",
      "source": [
        "import math\n",
        "import numpy as np\n",
        "import matplotlib.pyplot as plt\n",
        "%matplotlib inline"
      ],
      "metadata": {
        "id": "_ukTrvellvMe"
      },
      "execution_count": 224,
      "outputs": []
    },
    {
      "cell_type": "code",
      "source": [
        "from graphviz import Digraph"
      ],
      "metadata": {
        "id": "GkzDM0ck9EoU"
      },
      "execution_count": 225,
      "outputs": []
    },
    {
      "cell_type": "code",
      "source": [
        "def trace(root):\n",
        "  # builds a set of all nodes and edges in a graph\n",
        "  nodes, edges = set(), set()\n",
        "  def build(v):\n",
        "    if v not in nodes:\n",
        "      nodes.add(v)\n",
        "      for child in v._prev:\n",
        "        edges.add((child, v))\n",
        "        build(child)\n",
        "  build(root)\n",
        "  return nodes, edges\n",
        "\n",
        "def draw_dot(root):\n",
        "  dot = Digraph(format='svg', graph_attr={'rankdir': 'LR'}) # LR = left to right\n",
        "  \n",
        "  nodes, edges = trace(root)\n",
        "  for n in nodes:\n",
        "    uid = str(id(n))\n",
        "    # for any value in the graph, create a rectangular ('record') node for it\n",
        "    dot.node(name = uid, label = \"{ %s | data %.4f | grad %.4f }\" % (n.label, n.data, n.grad), shape='record')\n",
        "    if n._op:\n",
        "      # if this value is a result of some operation, create an op node for it\n",
        "      dot.node(name = uid + n._op, label = n._op)\n",
        "      # and connect this node to it\n",
        "      dot.edge(uid + n._op, uid)\n",
        "\n",
        "  for n1, n2 in edges:\n",
        "    # connect n1 to the op node of n2\n",
        "    dot.edge(str(id(n1)), str(id(n2)) + n2._op)\n",
        "\n",
        "  return dot"
      ],
      "metadata": {
        "id": "vzYjjXj19LtQ"
      },
      "execution_count": 226,
      "outputs": []
    },
    {
      "cell_type": "code",
      "source": [],
      "metadata": {
        "id": "ZaDxP39lmU_f"
      },
      "execution_count": 226,
      "outputs": []
    },
    {
      "cell_type": "code",
      "execution_count": 227,
      "metadata": {
        "id": "tBPZmemji0xw"
      },
      "outputs": [],
      "source": [
        "class Value:\n",
        "  def __init__(self,data,_children=(),_op=\"\",label=\"\"):\n",
        "    self.data = data\n",
        "    self.grad = 0.0\n",
        "    self._backward = lambda : None\n",
        "    self._prev = set(_children)\n",
        "    self._op = _op\n",
        "    self.label = label\n",
        "\n",
        "  def __repr__(self):\n",
        "    return f\"Value(data={self.data})\"\n",
        "\n",
        "  def __add__(self,other):\n",
        "\n",
        "    out = Value(self.data + other.data, (self,other),'+')\n",
        "\n",
        "    # self + other = out \n",
        "    def _backward():\n",
        "      self.grad += 1.0 * out.grad\n",
        "      other.grad += 1.0 * out.grad\n",
        "\n",
        "    out._backward = _backward\n",
        "\n",
        "    return out\n",
        "\n",
        "  def __mul__(self,other):\n",
        "    out = Value(self.data * other.data, (self,other), \"*\")\n",
        "\n",
        "    def _backward():\n",
        "      self.grad += other.data * out.grad\n",
        "      other.grad += self.data * out.grad\n",
        "\n",
        "    out._backward = _backward\n",
        "    return out\n",
        "\n",
        "  def tanh(self):\n",
        "    x = self.data\n",
        "    t= (math.exp(2*x) - 1)/(math.exp(2*x) + 1)\n",
        "    out = Value (t, (self, ), 'tanh')\n",
        "\n",
        "    def _backward():\n",
        "      self.grad = (1-t**2) * out.grad\n",
        "\n",
        "    out._backward = _backward\n",
        "\n",
        "    return out\n",
        "    \n",
        "      "
      ]
    },
    {
      "cell_type": "code",
      "source": [
        "a = Value(2.0)\n",
        "b = Value(3.0)\n",
        "d = Value(4.0)\n",
        "c = a * b\n",
        "e = d + c\n",
        "\n",
        "\n",
        "\n",
        "a.label = 'a'\n",
        "b.label = 'b'\n",
        "c.label = 'c'\n",
        "d.label = 'd'\n",
        "e.label = 'e'\n",
        "\n",
        "l = e.tanh()\n",
        "\n",
        "l.label = 'l'\n"
      ],
      "metadata": {
        "id": "DNTV-tjt4YxP"
      },
      "execution_count": 228,
      "outputs": []
    },
    {
      "cell_type": "code",
      "source": [
        "a = Value(2.0, label='a')\n",
        "b = Value(-3.0, label='b')\n",
        "c = Value(10.0, label='c')\n",
        "e = a*b; e.label = 'e'\n",
        "d = e + c; d.label = 'd'\n",
        "f = Value(-2.0, label='f')\n",
        "L = d * f\n",
        "L.label = 'L'\n",
        "\n"
      ],
      "metadata": {
        "id": "yrwJ-rsWOgZ5"
      },
      "execution_count": 229,
      "outputs": []
    },
    {
      "cell_type": "code",
      "source": [
        "# dy/dx = f(x+h) - f(x)/h  \n",
        "# L = d*f\n",
        "#L.grad = dL/df\n",
        "# f((f+h)d) - f(d*f) / h\n",
        "# = df + dh - df /h\n",
        "# = dh/h\n",
        "# = d\n",
        "L.grad = 1.0\n",
        "\n",
        "# f.grad = d\n",
        "f.grad = 4\n",
        "d.grad = -2\n",
        "\n",
        "'''\n",
        "d= e+c\n",
        "dd/de\n",
        "((e+h)+c) - (e+c)/h\n",
        "h/h = 1\n",
        "'''\n",
        "\n",
        "'''\n",
        "dL/de = dL/dd * dd/de\n",
        "= -2 * 1\n",
        "=-2\n",
        "'''\n",
        "\n",
        "e.grad = -2"
      ],
      "metadata": {
        "id": "TgbRfMjzQycw"
      },
      "execution_count": 230,
      "outputs": []
    },
    {
      "cell_type": "code",
      "source": [
        "draw_dot(L)"
      ],
      "metadata": {
        "colab": {
          "base_uri": "https://localhost:8080/",
          "height": 247
        },
        "id": "D627grcz53MZ",
        "outputId": "5ecdfc02-eda4-4416-e2fe-942dc36571e8"
      },
      "execution_count": 231,
      "outputs": [
        {
          "output_type": "execute_result",
          "data": {
            "text/plain": [
              "<graphviz.dot.Digraph at 0x7f7810797220>"
            ],
            "image/svg+xml": "<?xml version=\"1.0\" encoding=\"UTF-8\" standalone=\"no\"?>\n<!DOCTYPE svg PUBLIC \"-//W3C//DTD SVG 1.1//EN\"\n \"http://www.w3.org/Graphics/SVG/1.1/DTD/svg11.dtd\">\n<!-- Generated by graphviz version 2.43.0 (0)\n -->\n<!-- Title: %3 Pages: 1 -->\n<svg width=\"1151pt\" height=\"154pt\"\n viewBox=\"0.00 0.00 1151.00 154.00\" xmlns=\"http://www.w3.org/2000/svg\" xmlns:xlink=\"http://www.w3.org/1999/xlink\">\n<g id=\"graph0\" class=\"graph\" transform=\"scale(1 1) rotate(0) translate(4 150)\">\n<title>%3</title>\n<polygon fill=\"white\" stroke=\"transparent\" points=\"-4,4 -4,-150 1147,-150 1147,4 -4,4\"/>\n<!-- 140153659643408 -->\n<g id=\"node1\" class=\"node\">\n<title>140153659643408</title>\n<polygon fill=\"none\" stroke=\"black\" points=\"316,-27.5 316,-63.5 510,-63.5 510,-27.5 316,-27.5\"/>\n<text text-anchor=\"middle\" x=\"327.5\" y=\"-41.8\" font-family=\"Times,serif\" font-size=\"14.00\">e</text>\n<polyline fill=\"none\" stroke=\"black\" points=\"339,-27.5 339,-63.5 \"/>\n<text text-anchor=\"middle\" x=\"381.5\" y=\"-41.8\" font-family=\"Times,serif\" font-size=\"14.00\">data &#45;6.0000</text>\n<polyline fill=\"none\" stroke=\"black\" points=\"424,-27.5 424,-63.5 \"/>\n<text text-anchor=\"middle\" x=\"467\" y=\"-41.8\" font-family=\"Times,serif\" font-size=\"14.00\">grad &#45;2.0000</text>\n</g>\n<!-- 140153659643168+ -->\n<g id=\"node7\" class=\"node\">\n<title>140153659643168+</title>\n<ellipse fill=\"none\" stroke=\"black\" cx=\"573\" cy=\"-72.5\" rx=\"27\" ry=\"18\"/>\n<text text-anchor=\"middle\" x=\"573\" y=\"-68.8\" font-family=\"Times,serif\" font-size=\"14.00\">+</text>\n</g>\n<!-- 140153659643408&#45;&gt;140153659643168+ -->\n<g id=\"edge7\" class=\"edge\">\n<title>140153659643408&#45;&gt;140153659643168+</title>\n<path fill=\"none\" stroke=\"black\" d=\"M510.01,-61.91C519.35,-63.5 528.37,-65.04 536.49,-66.43\"/>\n<polygon fill=\"black\" stroke=\"black\" points=\"536.16,-69.93 546.6,-68.16 537.34,-63.03 536.16,-69.93\"/>\n</g>\n<!-- 140153659643408* -->\n<g id=\"node2\" class=\"node\">\n<title>140153659643408*</title>\n<ellipse fill=\"none\" stroke=\"black\" cx=\"253\" cy=\"-45.5\" rx=\"27\" ry=\"18\"/>\n<text text-anchor=\"middle\" x=\"253\" y=\"-41.8\" font-family=\"Times,serif\" font-size=\"14.00\">*</text>\n</g>\n<!-- 140153659643408*&#45;&gt;140153659643408 -->\n<g id=\"edge1\" class=\"edge\">\n<title>140153659643408*&#45;&gt;140153659643408</title>\n<path fill=\"none\" stroke=\"black\" d=\"M280.09,-45.5C287.62,-45.5 296.34,-45.5 305.63,-45.5\"/>\n<polygon fill=\"black\" stroke=\"black\" points=\"305.92,-49 315.92,-45.5 305.92,-42 305.92,-49\"/>\n</g>\n<!-- 140153649197744 -->\n<g id=\"node3\" class=\"node\">\n<title>140153649197744</title>\n<polygon fill=\"none\" stroke=\"black\" points=\"951,-81.5 951,-117.5 1143,-117.5 1143,-81.5 951,-81.5\"/>\n<text text-anchor=\"middle\" x=\"963.5\" y=\"-95.8\" font-family=\"Times,serif\" font-size=\"14.00\">L</text>\n<polyline fill=\"none\" stroke=\"black\" points=\"976,-81.5 976,-117.5 \"/>\n<text text-anchor=\"middle\" x=\"1018.5\" y=\"-95.8\" font-family=\"Times,serif\" font-size=\"14.00\">data &#45;8.0000</text>\n<polyline fill=\"none\" stroke=\"black\" points=\"1061,-81.5 1061,-117.5 \"/>\n<text text-anchor=\"middle\" x=\"1102\" y=\"-95.8\" font-family=\"Times,serif\" font-size=\"14.00\">grad 1.0000</text>\n</g>\n<!-- 140153649197744* -->\n<g id=\"node4\" class=\"node\">\n<title>140153649197744*</title>\n<ellipse fill=\"none\" stroke=\"black\" cx=\"888\" cy=\"-99.5\" rx=\"27\" ry=\"18\"/>\n<text text-anchor=\"middle\" x=\"888\" y=\"-95.8\" font-family=\"Times,serif\" font-size=\"14.00\">*</text>\n</g>\n<!-- 140153649197744*&#45;&gt;140153649197744 -->\n<g id=\"edge2\" class=\"edge\">\n<title>140153649197744*&#45;&gt;140153649197744</title>\n<path fill=\"none\" stroke=\"black\" d=\"M915.28,-99.5C922.78,-99.5 931.44,-99.5 940.67,-99.5\"/>\n<polygon fill=\"black\" stroke=\"black\" points=\"940.87,-103 950.87,-99.5 940.87,-96 940.87,-103\"/>\n</g>\n<!-- 140154048245424 -->\n<g id=\"node5\" class=\"node\">\n<title>140154048245424</title>\n<polygon fill=\"none\" stroke=\"black\" points=\"2.5,-55.5 2.5,-91.5 187.5,-91.5 187.5,-55.5 2.5,-55.5\"/>\n<text text-anchor=\"middle\" x=\"14\" y=\"-69.8\" font-family=\"Times,serif\" font-size=\"14.00\">a</text>\n<polyline fill=\"none\" stroke=\"black\" points=\"25.5,-55.5 25.5,-91.5 \"/>\n<text text-anchor=\"middle\" x=\"65.5\" y=\"-69.8\" font-family=\"Times,serif\" font-size=\"14.00\">data 2.0000</text>\n<polyline fill=\"none\" stroke=\"black\" points=\"105.5,-55.5 105.5,-91.5 \"/>\n<text text-anchor=\"middle\" x=\"146.5\" y=\"-69.8\" font-family=\"Times,serif\" font-size=\"14.00\">grad 0.0000</text>\n</g>\n<!-- 140154048245424&#45;&gt;140153659643408* -->\n<g id=\"edge9\" class=\"edge\">\n<title>140154048245424&#45;&gt;140153659643408*</title>\n<path fill=\"none\" stroke=\"black\" d=\"M187.65,-57.05C197.94,-55.2 207.91,-53.41 216.81,-51.82\"/>\n<polygon fill=\"black\" stroke=\"black\" points=\"217.48,-55.25 226.71,-50.04 216.25,-48.36 217.48,-55.25\"/>\n</g>\n<!-- 140153659643168 -->\n<g id=\"node6\" class=\"node\">\n<title>140153659643168</title>\n<polygon fill=\"none\" stroke=\"black\" points=\"636,-54.5 636,-90.5 825,-90.5 825,-54.5 636,-54.5\"/>\n<text text-anchor=\"middle\" x=\"647.5\" y=\"-68.8\" font-family=\"Times,serif\" font-size=\"14.00\">d</text>\n<polyline fill=\"none\" stroke=\"black\" points=\"659,-54.5 659,-90.5 \"/>\n<text text-anchor=\"middle\" x=\"699\" y=\"-68.8\" font-family=\"Times,serif\" font-size=\"14.00\">data 4.0000</text>\n<polyline fill=\"none\" stroke=\"black\" points=\"739,-54.5 739,-90.5 \"/>\n<text text-anchor=\"middle\" x=\"782\" y=\"-68.8\" font-family=\"Times,serif\" font-size=\"14.00\">grad &#45;2.0000</text>\n</g>\n<!-- 140153659643168&#45;&gt;140153649197744* -->\n<g id=\"edge4\" class=\"edge\">\n<title>140153659643168&#45;&gt;140153649197744*</title>\n<path fill=\"none\" stroke=\"black\" d=\"M825.1,-88.75C834.4,-90.37 843.38,-91.93 851.49,-93.33\"/>\n<polygon fill=\"black\" stroke=\"black\" points=\"851.14,-96.83 861.59,-95.09 852.34,-89.93 851.14,-96.83\"/>\n</g>\n<!-- 140153659643168+&#45;&gt;140153659643168 -->\n<g id=\"edge3\" class=\"edge\">\n<title>140153659643168+&#45;&gt;140153659643168</title>\n<path fill=\"none\" stroke=\"black\" d=\"M600.03,-72.5C607.66,-72.5 616.52,-72.5 625.94,-72.5\"/>\n<polygon fill=\"black\" stroke=\"black\" points=\"625.94,-76 635.94,-72.5 625.94,-69 625.94,-76\"/>\n</g>\n<!-- 140153649197888 -->\n<g id=\"node8\" class=\"node\">\n<title>140153649197888</title>\n<polygon fill=\"none\" stroke=\"black\" points=\"636.5,-109.5 636.5,-145.5 824.5,-145.5 824.5,-109.5 636.5,-109.5\"/>\n<text text-anchor=\"middle\" x=\"647\" y=\"-123.8\" font-family=\"Times,serif\" font-size=\"14.00\">f</text>\n<polyline fill=\"none\" stroke=\"black\" points=\"657.5,-109.5 657.5,-145.5 \"/>\n<text text-anchor=\"middle\" x=\"700\" y=\"-123.8\" font-family=\"Times,serif\" font-size=\"14.00\">data &#45;2.0000</text>\n<polyline fill=\"none\" stroke=\"black\" points=\"742.5,-109.5 742.5,-145.5 \"/>\n<text text-anchor=\"middle\" x=\"783.5\" y=\"-123.8\" font-family=\"Times,serif\" font-size=\"14.00\">grad 4.0000</text>\n</g>\n<!-- 140153649197888&#45;&gt;140153649197744* -->\n<g id=\"edge6\" class=\"edge\">\n<title>140153649197888&#45;&gt;140153649197744*</title>\n<path fill=\"none\" stroke=\"black\" d=\"M824.65,-110.73C834.2,-109.01 843.43,-107.35 851.72,-105.85\"/>\n<polygon fill=\"black\" stroke=\"black\" points=\"852.47,-109.27 861.69,-104.06 851.23,-102.39 852.47,-109.27\"/>\n</g>\n<!-- 140154048243072 -->\n<g id=\"node9\" class=\"node\">\n<title>140154048243072</title>\n<polygon fill=\"none\" stroke=\"black\" points=\"0,-0.5 0,-36.5 190,-36.5 190,-0.5 0,-0.5\"/>\n<text text-anchor=\"middle\" x=\"11.5\" y=\"-14.8\" font-family=\"Times,serif\" font-size=\"14.00\">b</text>\n<polyline fill=\"none\" stroke=\"black\" points=\"23,-0.5 23,-36.5 \"/>\n<text text-anchor=\"middle\" x=\"65.5\" y=\"-14.8\" font-family=\"Times,serif\" font-size=\"14.00\">data &#45;3.0000</text>\n<polyline fill=\"none\" stroke=\"black\" points=\"108,-0.5 108,-36.5 \"/>\n<text text-anchor=\"middle\" x=\"149\" y=\"-14.8\" font-family=\"Times,serif\" font-size=\"14.00\">grad 0.0000</text>\n</g>\n<!-- 140154048243072&#45;&gt;140153659643408* -->\n<g id=\"edge8\" class=\"edge\">\n<title>140154048243072&#45;&gt;140153659643408*</title>\n<path fill=\"none\" stroke=\"black\" d=\"M190.34,-34.83C199.62,-36.44 208.58,-37.99 216.66,-39.38\"/>\n<polygon fill=\"black\" stroke=\"black\" points=\"216.27,-42.87 226.72,-41.12 217.46,-35.97 216.27,-42.87\"/>\n</g>\n<!-- 140154048245712 -->\n<g id=\"node10\" class=\"node\">\n<title>140154048245712</title>\n<polygon fill=\"none\" stroke=\"black\" points=\"317,-82.5 317,-118.5 509,-118.5 509,-82.5 317,-82.5\"/>\n<text text-anchor=\"middle\" x=\"328.5\" y=\"-96.8\" font-family=\"Times,serif\" font-size=\"14.00\">c</text>\n<polyline fill=\"none\" stroke=\"black\" points=\"340,-82.5 340,-118.5 \"/>\n<text text-anchor=\"middle\" x=\"383.5\" y=\"-96.8\" font-family=\"Times,serif\" font-size=\"14.00\">data 10.0000</text>\n<polyline fill=\"none\" stroke=\"black\" points=\"427,-82.5 427,-118.5 \"/>\n<text text-anchor=\"middle\" x=\"468\" y=\"-96.8\" font-family=\"Times,serif\" font-size=\"14.00\">grad 0.0000</text>\n</g>\n<!-- 140154048245712&#45;&gt;140153659643168+ -->\n<g id=\"edge5\" class=\"edge\">\n<title>140154048245712&#45;&gt;140153659643168+</title>\n<path fill=\"none\" stroke=\"black\" d=\"M509.1,-83.65C518.84,-81.92 528.24,-80.25 536.68,-78.76\"/>\n<polygon fill=\"black\" stroke=\"black\" points=\"537.56,-82.16 546.79,-76.97 536.34,-75.27 537.56,-82.16\"/>\n</g>\n</g>\n</svg>\n"
          },
          "metadata": {},
          "execution_count": 231
        }
      ]
    },
    {
      "cell_type": "code",
      "source": [
        "a.data += 0.01 * a.grad\n",
        "b.data += 0.01 * b.grad\n",
        "c.data += 0.01 * c.grad\n",
        "f.data += 0.01 * f.grad\n",
        "\n",
        "e = a * b\n",
        "d = e + c\n",
        "L = d * f\n",
        "\n",
        "print(L.data)"
      ],
      "metadata": {
        "colab": {
          "base_uri": "https://localhost:8080/"
        },
        "id": "Bzdy6HIwPE8n",
        "outputId": "4942b98f-153f-4a11-ce1f-4af26fa9eef9"
      },
      "execution_count": 232,
      "outputs": [
        {
          "output_type": "stream",
          "name": "stdout",
          "text": [
            "-7.84\n"
          ]
        }
      ]
    },
    {
      "cell_type": "code",
      "source": [],
      "metadata": {
        "id": "Fuz3gPbiZGmR"
      },
      "execution_count": 232,
      "outputs": []
    },
    {
      "cell_type": "code",
      "source": [
        "a = Value(2.0, label='a')\n",
        "b = Value(-3.0, label='b')\n",
        "c = Value(10.0, label='c')\n",
        "e = a*b; e.label = 'e'\n",
        "d = e + c; d.label = 'd'\n",
        "f = Value(-2.0, label='f')\n",
        "L = d * f\n",
        "L.label = 'L'\n",
        "\n",
        "\n",
        "\n"
      ],
      "metadata": {
        "id": "5WKAxVoOZIGz"
      },
      "execution_count": 233,
      "outputs": []
    },
    {
      "cell_type": "code",
      "source": [
        "L.grad = 1\n",
        "L._backward()\n",
        "d._backward()\n",
        "e._backward()"
      ],
      "metadata": {
        "id": "aKgTvJgsbyDe"
      },
      "execution_count": 234,
      "outputs": []
    },
    {
      "cell_type": "code",
      "source": [
        "from types import BuiltinFunctionType\n",
        "#using topological sort to call each backward functions \n",
        "\n",
        "topo = []\n",
        "visited = set()\n",
        "def build_topo(v):\n",
        "  if v not in visited:\n",
        "    visited.add(v)\n",
        "    for child in v._prev:\n",
        "      build_topo(child)\n",
        "    topo.append(v)\n",
        "\n",
        "build_topo(L)\n",
        "L.grad = 1.0\n",
        "for item in reversed(topo):\n",
        "  item._backward()"
      ],
      "metadata": {
        "id": "v4yQyFD3a1PY"
      },
      "execution_count": 235,
      "outputs": []
    },
    {
      "cell_type": "code",
      "source": [
        "draw_dot(L)"
      ],
      "metadata": {
        "colab": {
          "base_uri": "https://localhost:8080/",
          "height": 250
        },
        "id": "jcIRPWo1ZKur",
        "outputId": "9d38bd30-711a-416b-92d7-ee7e408af37b"
      },
      "execution_count": 236,
      "outputs": [
        {
          "output_type": "execute_result",
          "data": {
            "text/plain": [
              "<graphviz.dot.Digraph at 0x7f7810958ca0>"
            ],
            "image/svg+xml": "<?xml version=\"1.0\" encoding=\"UTF-8\" standalone=\"no\"?>\n<!DOCTYPE svg PUBLIC \"-//W3C//DTD SVG 1.1//EN\"\n \"http://www.w3.org/Graphics/SVG/1.1/DTD/svg11.dtd\">\n<!-- Generated by graphviz version 2.43.0 (0)\n -->\n<!-- Title: %3 Pages: 1 -->\n<svg width=\"1164pt\" height=\"156pt\"\n viewBox=\"0.00 0.00 1164.00 156.00\" xmlns=\"http://www.w3.org/2000/svg\" xmlns:xlink=\"http://www.w3.org/1999/xlink\">\n<g id=\"graph0\" class=\"graph\" transform=\"scale(1 1) rotate(0) translate(4 152)\">\n<title>%3</title>\n<polygon fill=\"white\" stroke=\"transparent\" points=\"-4,4 -4,-152 1160,-152 1160,4 -4,4\"/>\n<!-- 140153649615920 -->\n<g id=\"node1\" class=\"node\">\n<title>140153649615920</title>\n<polygon fill=\"none\" stroke=\"black\" points=\"4.5,-111.5 4.5,-147.5 196.5,-147.5 196.5,-111.5 4.5,-111.5\"/>\n<text text-anchor=\"middle\" x=\"16\" y=\"-125.8\" font-family=\"Times,serif\" font-size=\"14.00\">a</text>\n<polyline fill=\"none\" stroke=\"black\" points=\"27.5,-111.5 27.5,-147.5 \"/>\n<text text-anchor=\"middle\" x=\"67.5\" y=\"-125.8\" font-family=\"Times,serif\" font-size=\"14.00\">data 2.0000</text>\n<polyline fill=\"none\" stroke=\"black\" points=\"107.5,-111.5 107.5,-147.5 \"/>\n<text text-anchor=\"middle\" x=\"152\" y=\"-125.8\" font-family=\"Times,serif\" font-size=\"14.00\">grad 24.0000</text>\n</g>\n<!-- 140153649616592* -->\n<g id=\"node6\" class=\"node\">\n<title>140153649616592*</title>\n<ellipse fill=\"none\" stroke=\"black\" cx=\"264\" cy=\"-101.5\" rx=\"27\" ry=\"18\"/>\n<text text-anchor=\"middle\" x=\"264\" y=\"-97.8\" font-family=\"Times,serif\" font-size=\"14.00\">*</text>\n</g>\n<!-- 140153649615920&#45;&gt;140153649616592* -->\n<g id=\"edge9\" class=\"edge\">\n<title>140153649615920&#45;&gt;140153649616592*</title>\n<path fill=\"none\" stroke=\"black\" d=\"M196.85,-112.97C207.76,-111.08 218.31,-109.25 227.66,-107.63\"/>\n<polygon fill=\"black\" stroke=\"black\" points=\"228.4,-111.05 237.65,-105.89 227.2,-104.15 228.4,-111.05\"/>\n</g>\n<!-- 140153649616448 -->\n<g id=\"node2\" class=\"node\">\n<title>140153649616448</title>\n<polygon fill=\"none\" stroke=\"black\" points=\"649,-55.5 649,-91.5 838,-91.5 838,-55.5 649,-55.5\"/>\n<text text-anchor=\"middle\" x=\"660.5\" y=\"-69.8\" font-family=\"Times,serif\" font-size=\"14.00\">d</text>\n<polyline fill=\"none\" stroke=\"black\" points=\"672,-55.5 672,-91.5 \"/>\n<text text-anchor=\"middle\" x=\"712\" y=\"-69.8\" font-family=\"Times,serif\" font-size=\"14.00\">data 4.0000</text>\n<polyline fill=\"none\" stroke=\"black\" points=\"752,-55.5 752,-91.5 \"/>\n<text text-anchor=\"middle\" x=\"795\" y=\"-69.8\" font-family=\"Times,serif\" font-size=\"14.00\">grad &#45;4.0000</text>\n</g>\n<!-- 140153649618224* -->\n<g id=\"node8\" class=\"node\">\n<title>140153649618224*</title>\n<ellipse fill=\"none\" stroke=\"black\" cx=\"901\" cy=\"-45.5\" rx=\"27\" ry=\"18\"/>\n<text text-anchor=\"middle\" x=\"901\" y=\"-41.8\" font-family=\"Times,serif\" font-size=\"14.00\">*</text>\n</g>\n<!-- 140153649616448&#45;&gt;140153649618224* -->\n<g id=\"edge4\" class=\"edge\">\n<title>140153649616448&#45;&gt;140153649618224*</title>\n<path fill=\"none\" stroke=\"black\" d=\"M838.1,-56.65C847.4,-54.97 856.38,-53.35 864.49,-51.89\"/>\n<polygon fill=\"black\" stroke=\"black\" points=\"865.37,-55.29 874.59,-50.07 864.13,-48.4 865.37,-55.29\"/>\n</g>\n<!-- 140153649616448+ -->\n<g id=\"node3\" class=\"node\">\n<title>140153649616448+</title>\n<ellipse fill=\"none\" stroke=\"black\" cx=\"586\" cy=\"-73.5\" rx=\"27\" ry=\"18\"/>\n<text text-anchor=\"middle\" x=\"586\" y=\"-69.8\" font-family=\"Times,serif\" font-size=\"14.00\">+</text>\n</g>\n<!-- 140153649616448+&#45;&gt;140153649616448 -->\n<g id=\"edge1\" class=\"edge\">\n<title>140153649616448+&#45;&gt;140153649616448</title>\n<path fill=\"none\" stroke=\"black\" d=\"M613.03,-73.5C620.66,-73.5 629.52,-73.5 638.94,-73.5\"/>\n<polygon fill=\"black\" stroke=\"black\" points=\"638.94,-77 648.94,-73.5 638.94,-70 638.94,-77\"/>\n</g>\n<!-- 140153649618032 -->\n<g id=\"node4\" class=\"node\">\n<title>140153649618032</title>\n<polygon fill=\"none\" stroke=\"black\" points=\"327,-28.5 327,-64.5 523,-64.5 523,-28.5 327,-28.5\"/>\n<text text-anchor=\"middle\" x=\"338.5\" y=\"-42.8\" font-family=\"Times,serif\" font-size=\"14.00\">c</text>\n<polyline fill=\"none\" stroke=\"black\" points=\"350,-28.5 350,-64.5 \"/>\n<text text-anchor=\"middle\" x=\"393.5\" y=\"-42.8\" font-family=\"Times,serif\" font-size=\"14.00\">data 10.0000</text>\n<polyline fill=\"none\" stroke=\"black\" points=\"437,-28.5 437,-64.5 \"/>\n<text text-anchor=\"middle\" x=\"480\" y=\"-42.8\" font-family=\"Times,serif\" font-size=\"14.00\">grad &#45;6.0000</text>\n</g>\n<!-- 140153649618032&#45;&gt;140153649616448+ -->\n<g id=\"edge7\" class=\"edge\">\n<title>140153649618032&#45;&gt;140153649616448+</title>\n<path fill=\"none\" stroke=\"black\" d=\"M523.07,-62.98C532.42,-64.57 541.43,-66.1 549.55,-67.48\"/>\n<polygon fill=\"black\" stroke=\"black\" points=\"549.21,-70.97 559.65,-69.2 550.38,-64.07 549.21,-70.97\"/>\n</g>\n<!-- 140153649616592 -->\n<g id=\"node5\" class=\"node\">\n<title>140153649616592</title>\n<polygon fill=\"none\" stroke=\"black\" points=\"328,-83.5 328,-119.5 522,-119.5 522,-83.5 328,-83.5\"/>\n<text text-anchor=\"middle\" x=\"339.5\" y=\"-97.8\" font-family=\"Times,serif\" font-size=\"14.00\">e</text>\n<polyline fill=\"none\" stroke=\"black\" points=\"351,-83.5 351,-119.5 \"/>\n<text text-anchor=\"middle\" x=\"393.5\" y=\"-97.8\" font-family=\"Times,serif\" font-size=\"14.00\">data &#45;6.0000</text>\n<polyline fill=\"none\" stroke=\"black\" points=\"436,-83.5 436,-119.5 \"/>\n<text text-anchor=\"middle\" x=\"479\" y=\"-97.8\" font-family=\"Times,serif\" font-size=\"14.00\">grad &#45;6.0000</text>\n</g>\n<!-- 140153649616592&#45;&gt;140153649616448+ -->\n<g id=\"edge6\" class=\"edge\">\n<title>140153649616592&#45;&gt;140153649616448+</title>\n<path fill=\"none\" stroke=\"black\" d=\"M522.16,-84.57C531.82,-82.87 541.13,-81.23 549.49,-79.75\"/>\n<polygon fill=\"black\" stroke=\"black\" points=\"550.3,-83.17 559.54,-77.98 549.08,-76.27 550.3,-83.17\"/>\n</g>\n<!-- 140153649616592*&#45;&gt;140153649616592 -->\n<g id=\"edge2\" class=\"edge\">\n<title>140153649616592*&#45;&gt;140153649616592</title>\n<path fill=\"none\" stroke=\"black\" d=\"M291.26,-101.5C299.05,-101.5 308.1,-101.5 317.75,-101.5\"/>\n<polygon fill=\"black\" stroke=\"black\" points=\"317.99,-105 327.99,-101.5 317.99,-98 317.99,-105\"/>\n</g>\n<!-- 140153649618224 -->\n<g id=\"node7\" class=\"node\">\n<title>140153649618224</title>\n<polygon fill=\"none\" stroke=\"black\" points=\"964,-27.5 964,-63.5 1156,-63.5 1156,-27.5 964,-27.5\"/>\n<text text-anchor=\"middle\" x=\"976.5\" y=\"-41.8\" font-family=\"Times,serif\" font-size=\"14.00\">L</text>\n<polyline fill=\"none\" stroke=\"black\" points=\"989,-27.5 989,-63.5 \"/>\n<text text-anchor=\"middle\" x=\"1031.5\" y=\"-41.8\" font-family=\"Times,serif\" font-size=\"14.00\">data &#45;8.0000</text>\n<polyline fill=\"none\" stroke=\"black\" points=\"1074,-27.5 1074,-63.5 \"/>\n<text text-anchor=\"middle\" x=\"1115\" y=\"-41.8\" font-family=\"Times,serif\" font-size=\"14.00\">grad 1.0000</text>\n</g>\n<!-- 140153649618224*&#45;&gt;140153649618224 -->\n<g id=\"edge3\" class=\"edge\">\n<title>140153649618224*&#45;&gt;140153649618224</title>\n<path fill=\"none\" stroke=\"black\" d=\"M928.28,-45.5C935.78,-45.5 944.44,-45.5 953.67,-45.5\"/>\n<polygon fill=\"black\" stroke=\"black\" points=\"953.87,-49 963.87,-45.5 953.87,-42 953.87,-49\"/>\n</g>\n<!-- 140153649617216 -->\n<g id=\"node9\" class=\"node\">\n<title>140153649617216</title>\n<polygon fill=\"none\" stroke=\"black\" points=\"649.5,-0.5 649.5,-36.5 837.5,-36.5 837.5,-0.5 649.5,-0.5\"/>\n<text text-anchor=\"middle\" x=\"660\" y=\"-14.8\" font-family=\"Times,serif\" font-size=\"14.00\">f</text>\n<polyline fill=\"none\" stroke=\"black\" points=\"670.5,-0.5 670.5,-36.5 \"/>\n<text text-anchor=\"middle\" x=\"713\" y=\"-14.8\" font-family=\"Times,serif\" font-size=\"14.00\">data &#45;2.0000</text>\n<polyline fill=\"none\" stroke=\"black\" points=\"755.5,-0.5 755.5,-36.5 \"/>\n<text text-anchor=\"middle\" x=\"796.5\" y=\"-14.8\" font-family=\"Times,serif\" font-size=\"14.00\">grad 8.0000</text>\n</g>\n<!-- 140153649617216&#45;&gt;140153649618224* -->\n<g id=\"edge8\" class=\"edge\">\n<title>140153649617216&#45;&gt;140153649618224*</title>\n<path fill=\"none\" stroke=\"black\" d=\"M837.65,-34.67C847.2,-36.33 856.43,-37.93 864.72,-39.37\"/>\n<polygon fill=\"black\" stroke=\"black\" points=\"864.24,-42.84 874.69,-41.11 865.44,-35.95 864.24,-42.84\"/>\n</g>\n<!-- 140153649617744 -->\n<g id=\"node10\" class=\"node\">\n<title>140153649617744</title>\n<polygon fill=\"none\" stroke=\"black\" points=\"0,-56.5 0,-92.5 201,-92.5 201,-56.5 0,-56.5\"/>\n<text text-anchor=\"middle\" x=\"11.5\" y=\"-70.8\" font-family=\"Times,serif\" font-size=\"14.00\">b</text>\n<polyline fill=\"none\" stroke=\"black\" points=\"23,-56.5 23,-92.5 \"/>\n<text text-anchor=\"middle\" x=\"65.5\" y=\"-70.8\" font-family=\"Times,serif\" font-size=\"14.00\">data &#45;3.0000</text>\n<polyline fill=\"none\" stroke=\"black\" points=\"108,-56.5 108,-92.5 \"/>\n<text text-anchor=\"middle\" x=\"154.5\" y=\"-70.8\" font-family=\"Times,serif\" font-size=\"14.00\">grad &#45;16.0000</text>\n</g>\n<!-- 140153649617744&#45;&gt;140153649616592* -->\n<g id=\"edge5\" class=\"edge\">\n<title>140153649617744&#45;&gt;140153649616592*</title>\n<path fill=\"none\" stroke=\"black\" d=\"M201.02,-91.14C210.41,-92.71 219.44,-94.22 227.56,-95.58\"/>\n<polygon fill=\"black\" stroke=\"black\" points=\"227.24,-99.07 237.68,-97.27 228.39,-92.17 227.24,-99.07\"/>\n</g>\n</g>\n</svg>\n"
          },
          "metadata": {},
          "execution_count": 236
        }
      ]
    },
    {
      "cell_type": "code",
      "source": [
        "class Value:\n",
        "  def __init__(self,data,_children=(),_op=\"\",label=\"\"):\n",
        "    self.data = data\n",
        "    self.grad = 0.0\n",
        "    self._backward = lambda : None\n",
        "    self._prev = set(_children)\n",
        "    self._op = _op\n",
        "    self.label = label\n",
        "\n",
        "  def __repr__(self):\n",
        "    return f\"Value(data={self.data})\"\n",
        "\n",
        "  def __add__(self,other):\n",
        "\n",
        "    out = Value(self.data + other.data, (self,other),'+')\n",
        "\n",
        "    # self + other = out \n",
        "    def _backward():\n",
        "      self.grad += 1.0 * out.grad\n",
        "      other.grad += 1.0 * out.grad\n",
        "\n",
        "    out._backward = _backward\n",
        "\n",
        "    return out\n",
        "\n",
        "  def __mul__(self,other):\n",
        "    out = Value(self.data * other.data, (self,other), \"*\")\n",
        "\n",
        "    def _backward():\n",
        "      self.grad += other.data * out.grad\n",
        "      other.grad += self.data * out.grad\n",
        "\n",
        "    out._backward = _backward\n",
        "    return out\n",
        "\n",
        "  def tanh(self):\n",
        "    x = self.data\n",
        "    t= (math.exp(2*x) - 1)/(math.exp(2*x) + 1)\n",
        "    out = Value (t, (self, ), 'tanh')\n",
        "\n",
        "    def _backward():\n",
        "      self.grad = (1-t**2) * out.grad\n",
        "\n",
        "    out._backward = _backward\n",
        "\n",
        "    return out\n",
        "    \n",
        "  def backward(self):\n",
        "    topo = []\n",
        "    visited = set()\n",
        "    def build_topo(v):\n",
        "      if v not in visited:\n",
        "        visited.add(v)\n",
        "        for child in v._prev:\n",
        "          build_topo(child)\n",
        "        topo.append(v)\n",
        "\n",
        "    build_topo(self)\n",
        "    self.grad = 1.0\n",
        "    for item in reversed(topo):\n",
        "      item._backward()\n",
        "\n",
        "      "
      ],
      "metadata": {
        "id": "5a_EQO6UZTOr"
      },
      "execution_count": 237,
      "outputs": []
    },
    {
      "cell_type": "code",
      "source": [
        "a = Value(2.0, label='a')\n",
        "b = Value(-3.0, label='b')\n",
        "c = Value(10.0, label='c')\n",
        "e = a*b; e.label = 'e'\n",
        "d = e + c; d.label = 'd'\n",
        "f = Value(-2.0, label='f')\n",
        "L = d * f\n",
        "L.label = 'L'"
      ],
      "metadata": {
        "id": "mzsPBUuuZVyL"
      },
      "execution_count": 238,
      "outputs": []
    },
    {
      "cell_type": "code",
      "source": [
        "L.backward()"
      ],
      "metadata": {
        "id": "7RanALpgeKeT"
      },
      "execution_count": 239,
      "outputs": []
    },
    {
      "cell_type": "code",
      "source": [
        "draw_dot(L)"
      ],
      "metadata": {
        "colab": {
          "base_uri": "https://localhost:8080/",
          "height": 250
        },
        "id": "27RcD0uWef-x",
        "outputId": "b9fb85be-70e6-459f-f6f4-928f73e19fa2"
      },
      "execution_count": 240,
      "outputs": [
        {
          "output_type": "execute_result",
          "data": {
            "text/plain": [
              "<graphviz.dot.Digraph at 0x7f7810b1c190>"
            ],
            "image/svg+xml": "<?xml version=\"1.0\" encoding=\"UTF-8\" standalone=\"no\"?>\n<!DOCTYPE svg PUBLIC \"-//W3C//DTD SVG 1.1//EN\"\n \"http://www.w3.org/Graphics/SVG/1.1/DTD/svg11.dtd\">\n<!-- Generated by graphviz version 2.43.0 (0)\n -->\n<!-- Title: %3 Pages: 1 -->\n<svg width=\"1157pt\" height=\"156pt\"\n viewBox=\"0.00 0.00 1157.00 156.00\" xmlns=\"http://www.w3.org/2000/svg\" xmlns:xlink=\"http://www.w3.org/1999/xlink\">\n<g id=\"graph0\" class=\"graph\" transform=\"scale(1 1) rotate(0) translate(4 152)\">\n<title>%3</title>\n<polygon fill=\"white\" stroke=\"transparent\" points=\"-4,4 -4,-152 1153,-152 1153,4 -4,4\"/>\n<!-- 140153654696448 -->\n<g id=\"node1\" class=\"node\">\n<title>140153654696448</title>\n<polygon fill=\"none\" stroke=\"black\" points=\"0,-111.5 0,-147.5 194,-147.5 194,-111.5 0,-111.5\"/>\n<text text-anchor=\"middle\" x=\"11.5\" y=\"-125.8\" font-family=\"Times,serif\" font-size=\"14.00\">b</text>\n<polyline fill=\"none\" stroke=\"black\" points=\"23,-111.5 23,-147.5 \"/>\n<text text-anchor=\"middle\" x=\"65.5\" y=\"-125.8\" font-family=\"Times,serif\" font-size=\"14.00\">data &#45;3.0000</text>\n<polyline fill=\"none\" stroke=\"black\" points=\"108,-111.5 108,-147.5 \"/>\n<text text-anchor=\"middle\" x=\"151\" y=\"-125.8\" font-family=\"Times,serif\" font-size=\"14.00\">grad &#45;4.0000</text>\n</g>\n<!-- 140153649617552* -->\n<g id=\"node4\" class=\"node\">\n<title>140153649617552*</title>\n<ellipse fill=\"none\" stroke=\"black\" cx=\"257\" cy=\"-101.5\" rx=\"27\" ry=\"18\"/>\n<text text-anchor=\"middle\" x=\"257\" y=\"-97.8\" font-family=\"Times,serif\" font-size=\"14.00\">*</text>\n</g>\n<!-- 140153654696448&#45;&gt;140153649617552* -->\n<g id=\"edge5\" class=\"edge\">\n<title>140153654696448&#45;&gt;140153649617552*</title>\n<path fill=\"none\" stroke=\"black\" d=\"M194.01,-112.49C203.35,-110.83 212.37,-109.23 220.49,-107.79\"/>\n<polygon fill=\"black\" stroke=\"black\" points=\"221.37,-111.19 230.6,-106 220.15,-104.3 221.37,-111.19\"/>\n</g>\n<!-- 140153654694432 -->\n<g id=\"node2\" class=\"node\">\n<title>140153654694432</title>\n<polygon fill=\"none\" stroke=\"black\" points=\"4.5,-56.5 4.5,-92.5 189.5,-92.5 189.5,-56.5 4.5,-56.5\"/>\n<text text-anchor=\"middle\" x=\"16\" y=\"-70.8\" font-family=\"Times,serif\" font-size=\"14.00\">a</text>\n<polyline fill=\"none\" stroke=\"black\" points=\"27.5,-56.5 27.5,-92.5 \"/>\n<text text-anchor=\"middle\" x=\"67.5\" y=\"-70.8\" font-family=\"Times,serif\" font-size=\"14.00\">data 2.0000</text>\n<polyline fill=\"none\" stroke=\"black\" points=\"107.5,-56.5 107.5,-92.5 \"/>\n<text text-anchor=\"middle\" x=\"148.5\" y=\"-70.8\" font-family=\"Times,serif\" font-size=\"14.00\">grad 6.0000</text>\n</g>\n<!-- 140153654694432&#45;&gt;140153649617552* -->\n<g id=\"edge4\" class=\"edge\">\n<title>140153654694432&#45;&gt;140153649617552*</title>\n<path fill=\"none\" stroke=\"black\" d=\"M189.91,-90.21C200.76,-92.06 211.28,-93.86 220.61,-95.45\"/>\n<polygon fill=\"black\" stroke=\"black\" points=\"220.16,-98.93 230.6,-97.16 221.34,-92.03 220.16,-98.93\"/>\n</g>\n<!-- 140153649617552 -->\n<g id=\"node3\" class=\"node\">\n<title>140153649617552</title>\n<polygon fill=\"none\" stroke=\"black\" points=\"321,-83.5 321,-119.5 515,-119.5 515,-83.5 321,-83.5\"/>\n<text text-anchor=\"middle\" x=\"332.5\" y=\"-97.8\" font-family=\"Times,serif\" font-size=\"14.00\">e</text>\n<polyline fill=\"none\" stroke=\"black\" points=\"344,-83.5 344,-119.5 \"/>\n<text text-anchor=\"middle\" x=\"386.5\" y=\"-97.8\" font-family=\"Times,serif\" font-size=\"14.00\">data &#45;6.0000</text>\n<polyline fill=\"none\" stroke=\"black\" points=\"429,-83.5 429,-119.5 \"/>\n<text text-anchor=\"middle\" x=\"472\" y=\"-97.8\" font-family=\"Times,serif\" font-size=\"14.00\">grad &#45;2.0000</text>\n</g>\n<!-- 140153649617264+ -->\n<g id=\"node9\" class=\"node\">\n<title>140153649617264+</title>\n<ellipse fill=\"none\" stroke=\"black\" cx=\"579\" cy=\"-73.5\" rx=\"27\" ry=\"18\"/>\n<text text-anchor=\"middle\" x=\"579\" y=\"-69.8\" font-family=\"Times,serif\" font-size=\"14.00\">+</text>\n</g>\n<!-- 140153649617552&#45;&gt;140153649617264+ -->\n<g id=\"edge8\" class=\"edge\">\n<title>140153649617552&#45;&gt;140153649617264+</title>\n<path fill=\"none\" stroke=\"black\" d=\"M515.16,-84.57C524.82,-82.87 534.13,-81.23 542.49,-79.75\"/>\n<polygon fill=\"black\" stroke=\"black\" points=\"543.3,-83.17 552.54,-77.98 542.08,-76.27 543.3,-83.17\"/>\n</g>\n<!-- 140153649617552*&#45;&gt;140153649617552 -->\n<g id=\"edge1\" class=\"edge\">\n<title>140153649617552*&#45;&gt;140153649617552</title>\n<path fill=\"none\" stroke=\"black\" d=\"M284.26,-101.5C292.05,-101.5 301.1,-101.5 310.75,-101.5\"/>\n<polygon fill=\"black\" stroke=\"black\" points=\"310.99,-105 320.99,-101.5 310.99,-98 310.99,-105\"/>\n</g>\n<!-- 140153649617600 -->\n<g id=\"node5\" class=\"node\">\n<title>140153649617600</title>\n<polygon fill=\"none\" stroke=\"black\" points=\"320,-28.5 320,-64.5 516,-64.5 516,-28.5 320,-28.5\"/>\n<text text-anchor=\"middle\" x=\"331.5\" y=\"-42.8\" font-family=\"Times,serif\" font-size=\"14.00\">c</text>\n<polyline fill=\"none\" stroke=\"black\" points=\"343,-28.5 343,-64.5 \"/>\n<text text-anchor=\"middle\" x=\"386.5\" y=\"-42.8\" font-family=\"Times,serif\" font-size=\"14.00\">data 10.0000</text>\n<polyline fill=\"none\" stroke=\"black\" points=\"430,-28.5 430,-64.5 \"/>\n<text text-anchor=\"middle\" x=\"473\" y=\"-42.8\" font-family=\"Times,serif\" font-size=\"14.00\">grad &#45;2.0000</text>\n</g>\n<!-- 140153649617600&#45;&gt;140153649617264+ -->\n<g id=\"edge6\" class=\"edge\">\n<title>140153649617600&#45;&gt;140153649617264+</title>\n<path fill=\"none\" stroke=\"black\" d=\"M516.07,-62.98C525.42,-64.57 534.43,-66.1 542.55,-67.48\"/>\n<polygon fill=\"black\" stroke=\"black\" points=\"542.21,-70.97 552.65,-69.2 543.38,-64.07 542.21,-70.97\"/>\n</g>\n<!-- 140153649618752 -->\n<g id=\"node6\" class=\"node\">\n<title>140153649618752</title>\n<polygon fill=\"none\" stroke=\"black\" points=\"957,-27.5 957,-63.5 1149,-63.5 1149,-27.5 957,-27.5\"/>\n<text text-anchor=\"middle\" x=\"969.5\" y=\"-41.8\" font-family=\"Times,serif\" font-size=\"14.00\">L</text>\n<polyline fill=\"none\" stroke=\"black\" points=\"982,-27.5 982,-63.5 \"/>\n<text text-anchor=\"middle\" x=\"1024.5\" y=\"-41.8\" font-family=\"Times,serif\" font-size=\"14.00\">data &#45;8.0000</text>\n<polyline fill=\"none\" stroke=\"black\" points=\"1067,-27.5 1067,-63.5 \"/>\n<text text-anchor=\"middle\" x=\"1108\" y=\"-41.8\" font-family=\"Times,serif\" font-size=\"14.00\">grad 1.0000</text>\n</g>\n<!-- 140153649618752* -->\n<g id=\"node7\" class=\"node\">\n<title>140153649618752*</title>\n<ellipse fill=\"none\" stroke=\"black\" cx=\"894\" cy=\"-45.5\" rx=\"27\" ry=\"18\"/>\n<text text-anchor=\"middle\" x=\"894\" y=\"-41.8\" font-family=\"Times,serif\" font-size=\"14.00\">*</text>\n</g>\n<!-- 140153649618752*&#45;&gt;140153649618752 -->\n<g id=\"edge2\" class=\"edge\">\n<title>140153649618752*&#45;&gt;140153649618752</title>\n<path fill=\"none\" stroke=\"black\" d=\"M921.28,-45.5C928.78,-45.5 937.44,-45.5 946.67,-45.5\"/>\n<polygon fill=\"black\" stroke=\"black\" points=\"946.87,-49 956.87,-45.5 946.87,-42 946.87,-49\"/>\n</g>\n<!-- 140153649617264 -->\n<g id=\"node8\" class=\"node\">\n<title>140153649617264</title>\n<polygon fill=\"none\" stroke=\"black\" points=\"642,-55.5 642,-91.5 831,-91.5 831,-55.5 642,-55.5\"/>\n<text text-anchor=\"middle\" x=\"653.5\" y=\"-69.8\" font-family=\"Times,serif\" font-size=\"14.00\">d</text>\n<polyline fill=\"none\" stroke=\"black\" points=\"665,-55.5 665,-91.5 \"/>\n<text text-anchor=\"middle\" x=\"705\" y=\"-69.8\" font-family=\"Times,serif\" font-size=\"14.00\">data 4.0000</text>\n<polyline fill=\"none\" stroke=\"black\" points=\"745,-55.5 745,-91.5 \"/>\n<text text-anchor=\"middle\" x=\"788\" y=\"-69.8\" font-family=\"Times,serif\" font-size=\"14.00\">grad &#45;2.0000</text>\n</g>\n<!-- 140153649617264&#45;&gt;140153649618752* -->\n<g id=\"edge7\" class=\"edge\">\n<title>140153649617264&#45;&gt;140153649618752*</title>\n<path fill=\"none\" stroke=\"black\" d=\"M831.1,-56.65C840.4,-54.97 849.38,-53.35 857.49,-51.89\"/>\n<polygon fill=\"black\" stroke=\"black\" points=\"858.37,-55.29 867.59,-50.07 857.13,-48.4 858.37,-55.29\"/>\n</g>\n<!-- 140153649617264+&#45;&gt;140153649617264 -->\n<g id=\"edge3\" class=\"edge\">\n<title>140153649617264+&#45;&gt;140153649617264</title>\n<path fill=\"none\" stroke=\"black\" d=\"M606.03,-73.5C613.66,-73.5 622.52,-73.5 631.94,-73.5\"/>\n<polygon fill=\"black\" stroke=\"black\" points=\"631.94,-77 641.94,-73.5 631.94,-70 631.94,-77\"/>\n</g>\n<!-- 140153649617312 -->\n<g id=\"node10\" class=\"node\">\n<title>140153649617312</title>\n<polygon fill=\"none\" stroke=\"black\" points=\"642.5,-0.5 642.5,-36.5 830.5,-36.5 830.5,-0.5 642.5,-0.5\"/>\n<text text-anchor=\"middle\" x=\"653\" y=\"-14.8\" font-family=\"Times,serif\" font-size=\"14.00\">f</text>\n<polyline fill=\"none\" stroke=\"black\" points=\"663.5,-0.5 663.5,-36.5 \"/>\n<text text-anchor=\"middle\" x=\"706\" y=\"-14.8\" font-family=\"Times,serif\" font-size=\"14.00\">data &#45;2.0000</text>\n<polyline fill=\"none\" stroke=\"black\" points=\"748.5,-0.5 748.5,-36.5 \"/>\n<text text-anchor=\"middle\" x=\"789.5\" y=\"-14.8\" font-family=\"Times,serif\" font-size=\"14.00\">grad 4.0000</text>\n</g>\n<!-- 140153649617312&#45;&gt;140153649618752* -->\n<g id=\"edge9\" class=\"edge\">\n<title>140153649617312&#45;&gt;140153649618752*</title>\n<path fill=\"none\" stroke=\"black\" d=\"M830.65,-34.67C840.2,-36.33 849.43,-37.93 857.72,-39.37\"/>\n<polygon fill=\"black\" stroke=\"black\" points=\"857.24,-42.84 867.69,-41.11 858.44,-35.95 857.24,-42.84\"/>\n</g>\n</g>\n</svg>\n"
          },
          "metadata": {},
          "execution_count": 240
        }
      ]
    },
    {
      "cell_type": "code",
      "source": [
        "# Modifying the Finalized Value object with "
      ],
      "metadata": {
        "id": "QHGVfaTNe8JL"
      },
      "execution_count": 241,
      "outputs": []
    },
    {
      "cell_type": "code",
      "source": [
        "#refactoring the Value object to do more additional math operations such as expo, power, substtraction  ---\n",
        "class Value:\n",
        "  def __init__(self, data, _children = (), _op='', label = ''):\n",
        "    self.data = data\n",
        "    self._prev = set(_children)\n",
        "    self._op = _op\n",
        "    self.label = label\n",
        "    self.grad = 0.0\n",
        "    self._backward = lambda : None \n",
        "\n",
        "  #printing format\n",
        "  def __repr__(self):\n",
        "    return f\"Value(data={self.data})\"\n",
        "\n",
        "  #addition function {Value Object + (Value Object or a number)}\n",
        "  def __add__(self, other):\n",
        "    other = other if isinstance(other, Value) else Value(other)\n",
        "    out = Value(self.data + other.data, (self, other), \"+\")\n",
        "    \n",
        "    def backward_fun():\n",
        "        self.grad += 1.0 * out.grad\n",
        "        other.grad += 1.0 * out.grad\n",
        "    out._backward = backward_fun\n",
        "\n",
        "    return out\n",
        "\n",
        "  #substraction function {Value Object - (Value Object or a number)}\n",
        "  def __sub__(self, other):\n",
        "    return self + (-other)\n",
        "\n",
        "  #substraction function {number - Value Object}\n",
        "  def __rsub__(self, other):\n",
        "    return self + (-other)\n",
        "\n",
        "  #multiplication function {Value Object * (Value Object or a number)}\n",
        "  def __mul__(self, other):\n",
        "    other = other if isinstance(other, Value) else Value(other)\n",
        "    out = Value(self.data * other.data, (self, other), \"*\") \n",
        "    \n",
        "    def backward_fun():\n",
        "        self.grad += other.data * out.grad\n",
        "        other.grad += self.data * out.grad\n",
        "    out._backward = backward_fun\n",
        "\n",
        "    return out\n",
        "\n",
        "  #reverse add function {number * Value Object}\n",
        "  def __radd__(self, other): \n",
        "    return self + other\n",
        "\n",
        "  #reverse multiplication function {number * Value Object}\n",
        "  def __rmul__(self, other):\n",
        "    return self * other\n",
        "\n",
        "  #division function {(Value object or number) / (Value object or number)}\n",
        "  '''\n",
        "  x/y = x * (1/y) = x * y^(-1)\n",
        "  '''\n",
        "  def __truediv__(self, other):\n",
        "    return self * other**-1\n",
        "\n",
        "  #power function {Value object ^ number}\n",
        "  def __pow__(self, other):\n",
        "    assert isinstance(other, (int, float)) #allow only the int and float as other for power values\n",
        "    out = Value(self.data ** other, (self, ), f'**{other}')\n",
        "\n",
        "    def backward_fun():\n",
        "      self.grad += (other * (self.data ** (other -1))) * out.grad\n",
        "    out._backward = backward_fun\n",
        "\n",
        "    return out;\n",
        "\n",
        "  #tanh fumction on the current Value object\n",
        "  def tanh(self):\n",
        "    x = self.data\n",
        "    t = (math.exp(2*x) - 1)/(math.exp(2*x) + 1)\n",
        "    out = Value(t, (self, ), 'tanh')\n",
        "\n",
        "    def backward_fun():\n",
        "        out.grad += 1.0\n",
        "        self.grad += (1 - t**2) * out.grad \n",
        "    out._backward = backward_fun\n",
        "\n",
        "    return out\n",
        "\n",
        "  #exponential on the current value object\n",
        "  def exp(self):\n",
        "    out = Value(math.exp(self.data), (self,), 'exp')\n",
        "\n",
        "    def backward_fun():\n",
        "      self.grad += out.data * out.grad\n",
        "    out._backward = backward_fun\n",
        "\n",
        "    return out\n",
        "\n",
        "  #triggering Backpropagation from the last node\n",
        "  def backward(self):\n",
        "    topo = []\n",
        "    visited = set()\n",
        "    def build_topo(v):\n",
        "      if v not in visited:\n",
        "        visited.add(v)\n",
        "        for child in v._prev:\n",
        "          build_topo(child)\n",
        "        topo.append(v)\n",
        "    build_topo(self)\n",
        "\n",
        "    self.grad = 1.0\n",
        "    for node in reversed(topo):\n",
        "      node._backward()\n"
      ],
      "metadata": {
        "id": "VMvNNjmPhFgj"
      },
      "execution_count": 242,
      "outputs": []
    },
    {
      "cell_type": "code",
      "source": [
        "import random"
      ],
      "metadata": {
        "id": "G0kgHn4CkO65"
      },
      "execution_count": 243,
      "outputs": []
    },
    {
      "cell_type": "code",
      "source": [
        "# Creating a neuron\n",
        "class Neuron:\n",
        "\n",
        "  def __init__(self,ninputs):\n",
        "    self.weights = [Value(random.uniform(1, -1)) for i in range(ninputs) ]\n",
        "    self.bias = Value(random.uniform(1,-1))\n",
        "\n",
        "  def __call__(self,inputs):\n",
        "    # calculating sum of weighted inputs + bias\n",
        "    dotProduct = sum(w*x for x, w in zip(inputs, self.weights)) + self.bias\n",
        "    return dotProduct.tanh()\n",
        "    \n",
        "  # return a list of parameters in each of the neurons\n",
        "  def parameters(self):\n",
        "    return self.weights + [self.bias]\n"
      ],
      "metadata": {
        "id": "Ww1pbo6xiewm"
      },
      "execution_count": 244,
      "outputs": []
    },
    {
      "cell_type": "code",
      "source": [
        "d = Neuron(2)\n",
        "x = [1,2]\n",
        "d(x)"
      ],
      "metadata": {
        "colab": {
          "base_uri": "https://localhost:8080/"
        },
        "id": "s-Ohb8MZmEm1",
        "outputId": "93b1e6ab-4c8f-4b83-ec3a-515b78dcc0fd"
      },
      "execution_count": 245,
      "outputs": [
        {
          "output_type": "execute_result",
          "data": {
            "text/plain": [
              "Value(data=-0.587692521870127)"
            ]
          },
          "metadata": {},
          "execution_count": 245
        }
      ]
    },
    {
      "cell_type": "code",
      "source": [
        "# Creating a layer \n",
        "class Layer:\n",
        "\n",
        "  # neuron_in_layer -> # of neurons in the layer \n",
        "  def __init__(self,ninputs, neuron_in_layer):\n",
        "    self.neurons = [Neuron(ninputs) for i in range (neuron_in_layer)]\n",
        "\n",
        "  def __call__(self,inputs):\n",
        "    output = []\n",
        "    for neuron in self.neurons:  \n",
        "      output.append(neuron(inputs))\n",
        "    return output[0] if len(output) == 1 else output \n",
        "\n",
        "  # returns a list of a list of parameters in each neuron in the layer\n",
        "  def parameters(self):\n",
        "    parameters = []\n",
        "    for neuron in self.neurons:\n",
        "      parameters.extend(neuron.parameters())\n",
        "\n",
        "    return parameters\n"
      ],
      "metadata": {
        "id": "-I9opWcurd3H"
      },
      "execution_count": 246,
      "outputs": []
    },
    {
      "cell_type": "code",
      "source": [
        "# creating Multilayer Perceptron\n",
        "class MLP:\n",
        "  # nouts -> list of no of neurons in layers\n",
        "  # ninputs -> no of inputs in input layer\n",
        "  def __init__(self,ninputs,nouts):\n",
        "    '''\n",
        "    ninputs = 3\n",
        "    nouts = [4,4,1]\n",
        "    noinputs = [3,4,4]\n",
        "    '''\n",
        "    temp_layers = [ninputs] + nouts \n",
        "\n",
        "\n",
        "    self.layers = [Layer(temp_layers[i],temp_layers[i+1]) for i in range(len(nouts))]\n",
        "\n",
        "  def __call__(self,inputs):\n",
        "    for layer in self.layers:\n",
        "      inputs = layer(inputs)\n",
        "    return inputs\n",
        "\n",
        "  def parameters(self):\n",
        "    parameters  = []\n",
        "    for layer in self.layers:\n",
        "      parameters.extend(layer.parameters())\n",
        "    return parameters "
      ],
      "metadata": {
        "id": "vPqb9o21vq3S"
      },
      "execution_count": 247,
      "outputs": []
    },
    {
      "cell_type": "code",
      "source": [
        "# defining MLP with 3 inputs and 3 layers with (layer 1 with 4 neurons, 2 with 4 neurons and output layer with 1 neuron)\n",
        "mlp = MLP(3,[4,4,1])\n",
        "# passing inputs to the mlp\n",
        "# mlp([1,6,7])"
      ],
      "metadata": {
        "id": "Bb6StF490CkD"
      },
      "execution_count": 248,
      "outputs": []
    },
    {
      "cell_type": "code",
      "source": [
        "# draw_dot(mlp(x))"
      ],
      "metadata": {
        "id": "zNgFyxktK-Qn"
      },
      "execution_count": 249,
      "outputs": []
    },
    {
      "cell_type": "code",
      "source": [
        "# inputs \n",
        "xtrain =  [\n",
        "  [2.0, 3.0, -1.0],\n",
        "  [3.0, -1.0, 0.5],\n",
        "  [0.5, 1.0, 1.0],\n",
        "  [1.0, 1.0, -1.0],\n",
        "]\n",
        "\n",
        "# outputs\n",
        "ytrain = [-1.0, -1.0, -1.0, -1.0] \n",
        "\n",
        "# predicting output with mlp \n",
        "ypred = [mlp(x) for x in xtrain]\n",
        "ypred\n",
        "\n"
      ],
      "metadata": {
        "colab": {
          "base_uri": "https://localhost:8080/"
        },
        "id": "MPqU1GFsLtfc",
        "outputId": "f3c2240b-4266-4d50-e32e-11883acc6fa9"
      },
      "execution_count": 281,
      "outputs": [
        {
          "output_type": "execute_result",
          "data": {
            "text/plain": [
              "[Value(data=-0.9999999999994498),\n",
              " Value(data=-0.9999999999994494),\n",
              " Value(data=-0.9999999999994498),\n",
              " Value(data=-0.9999999999994498)]"
            ]
          },
          "metadata": {},
          "execution_count": 281
        }
      ]
    },
    {
      "cell_type": "code",
      "source": [
        "# loss for each input \n",
        "[(yact - ypred)**2 for yact, ypred in zip(ytrain, ypred)] "
      ],
      "metadata": {
        "colab": {
          "base_uri": "https://localhost:8080/"
        },
        "id": "9HVrFFcCNjYD",
        "outputId": "237f480e-d3f5-4b38-d0b0-cf40c97bca01"
      },
      "execution_count": 251,
      "outputs": [
        {
          "output_type": "execute_result",
          "data": {
            "text/plain": [
              "[Value(data=3.315228695998361),\n",
              " Value(data=0.041958419398204994),\n",
              " Value(data=2.854042646969811),\n",
              " Value(data=3.146745436213685)]"
            ]
          },
          "metadata": {},
          "execution_count": 251
        }
      ]
    },
    {
      "cell_type": "code",
      "source": [
        "# calculating loss of the predictions \n",
        "# MSE  = (Σ(yact- ypred)**2)/n\n",
        "loss = sum((yact - ypred)**2 for yact, ypred in zip(ytrain, ypred))\n",
        "loss"
      ],
      "metadata": {
        "colab": {
          "base_uri": "https://localhost:8080/"
        },
        "id": "bmeZUmxNMzeP",
        "outputId": "b2783d04-18c9-4c92-d4be-8d792a1d6606"
      },
      "execution_count": 261,
      "outputs": [
        {
          "output_type": "execute_result",
          "data": {
            "text/plain": [
              "Value(data=3.9724532387247846)"
            ]
          },
          "metadata": {},
          "execution_count": 261
        }
      ]
    },
    {
      "cell_type": "code",
      "source": [
        "draw_dot(loss)"
      ],
      "metadata": {
        "id": "tmacwLp0eK_N"
      },
      "execution_count": null,
      "outputs": []
    },
    {
      "cell_type": "code",
      "source": [
        "len(mlp.parameters())"
      ],
      "metadata": {
        "colab": {
          "base_uri": "https://localhost:8080/"
        },
        "id": "4B-2JeXLfIpp",
        "outputId": "a2ca7326-8460-4301-b66c-c72a81a2747e"
      },
      "execution_count": 254,
      "outputs": [
        {
          "output_type": "execute_result",
          "data": {
            "text/plain": [
              "41"
            ]
          },
          "metadata": {},
          "execution_count": 254
        }
      ]
    },
    {
      "cell_type": "code",
      "source": [
        "# mlp.parameters()"
      ],
      "metadata": {
        "id": "mPFXQdm20Ljo"
      },
      "execution_count": 262,
      "outputs": []
    },
    {
      "cell_type": "code",
      "source": [
        "# forward pass\n",
        "ypred = [mlp(x) for x in xtrain]\n",
        "loss = sum((yact - ypred)**2 for yact, ypred in zip(ytrain, ypred))\n",
        "loss"
      ],
      "metadata": {
        "colab": {
          "base_uri": "https://localhost:8080/"
        },
        "id": "RXma4VTpgLwG",
        "outputId": "d30371b1-4995-4b43-ba8c-fd83c3bc3469"
      },
      "execution_count": 279,
      "outputs": [
        {
          "output_type": "execute_result",
          "data": {
            "text/plain": [
              "Value(data=3.9999999999977973)"
            ]
          },
          "metadata": {},
          "execution_count": 279
        }
      ]
    },
    {
      "cell_type": "code",
      "source": [
        "for p in mlp.parameters():\n",
        "  p.grad = 0\n",
        "\n",
        "# backward pass\n",
        "loss.backward()\n"
      ],
      "metadata": {
        "id": "Y1BQ1h3DdlvZ"
      },
      "execution_count": 277,
      "outputs": []
    },
    {
      "cell_type": "code",
      "source": [
        "# adjusting the params \n",
        "# 0.5 is the learning rate -> by which amount we are adjusting each parameter so that we can reduce the loss \n",
        "for p in mlp.parameters():\n",
        "  p.data += 0.05 * p.grad"
      ],
      "metadata": {
        "id": "srv-YTOweQbQ"
      },
      "execution_count": 278,
      "outputs": []
    },
    {
      "cell_type": "code",
      "source": [
        "for k in range(100):\n",
        "\n",
        "  # forward\n",
        "  ypred = [mlp(x) for x in xtrain]\n",
        "  loss = sum((yact - ypred)**2 for yact, ypred in zip(ytrain, ypred))\n",
        "  loss\n",
        "\n",
        "  # backward\n",
        "  loss.backward()\n",
        "\n",
        "  # adjusting the params \n",
        "  # 0.5 is the learning rate -> by which amount we are adjusting each parameter so that we can reduce the loss \n",
        "  for p in mlp.parameters():\n",
        "    p += -0.05 * p.grad\n",
        "\n",
        "  print(k, loss.data)"
      ],
      "metadata": {
        "colab": {
          "base_uri": "https://localhost:8080/"
        },
        "id": "ofK0PwCUgPgc",
        "outputId": "7c7fbe4e-e1e1-4754-d3c7-333542e51747"
      },
      "execution_count": 259,
      "outputs": [
        {
          "output_type": "stream",
          "name": "stdout",
          "text": [
            "0 3.9724532387247846\n",
            "1 3.9724532387247846\n",
            "2 3.9724532387247846\n",
            "3 3.9724532387247846\n",
            "4 3.9724532387247846\n",
            "5 3.9724532387247846\n",
            "6 3.9724532387247846\n",
            "7 3.9724532387247846\n",
            "8 3.9724532387247846\n",
            "9 3.9724532387247846\n",
            "10 3.9724532387247846\n",
            "11 3.9724532387247846\n",
            "12 3.9724532387247846\n",
            "13 3.9724532387247846\n",
            "14 3.9724532387247846\n",
            "15 3.9724532387247846\n",
            "16 3.9724532387247846\n",
            "17 3.9724532387247846\n",
            "18 3.9724532387247846\n",
            "19 3.9724532387247846\n",
            "20 3.9724532387247846\n",
            "21 3.9724532387247846\n",
            "22 3.9724532387247846\n",
            "23 3.9724532387247846\n",
            "24 3.9724532387247846\n",
            "25 3.9724532387247846\n",
            "26 3.9724532387247846\n",
            "27 3.9724532387247846\n",
            "28 3.9724532387247846\n",
            "29 3.9724532387247846\n",
            "30 3.9724532387247846\n",
            "31 3.9724532387247846\n",
            "32 3.9724532387247846\n",
            "33 3.9724532387247846\n",
            "34 3.9724532387247846\n",
            "35 3.9724532387247846\n",
            "36 3.9724532387247846\n",
            "37 3.9724532387247846\n",
            "38 3.9724532387247846\n",
            "39 3.9724532387247846\n",
            "40 3.9724532387247846\n",
            "41 3.9724532387247846\n",
            "42 3.9724532387247846\n",
            "43 3.9724532387247846\n",
            "44 3.9724532387247846\n",
            "45 3.9724532387247846\n",
            "46 3.9724532387247846\n",
            "47 3.9724532387247846\n",
            "48 3.9724532387247846\n",
            "49 3.9724532387247846\n",
            "50 3.9724532387247846\n",
            "51 3.9724532387247846\n",
            "52 3.9724532387247846\n",
            "53 3.9724532387247846\n",
            "54 3.9724532387247846\n",
            "55 3.9724532387247846\n",
            "56 3.9724532387247846\n",
            "57 3.9724532387247846\n",
            "58 3.9724532387247846\n",
            "59 3.9724532387247846\n",
            "60 3.9724532387247846\n",
            "61 3.9724532387247846\n",
            "62 3.9724532387247846\n",
            "63 3.9724532387247846\n",
            "64 3.9724532387247846\n",
            "65 3.9724532387247846\n",
            "66 3.9724532387247846\n",
            "67 3.9724532387247846\n",
            "68 3.9724532387247846\n",
            "69 3.9724532387247846\n",
            "70 3.9724532387247846\n",
            "71 3.9724532387247846\n",
            "72 3.9724532387247846\n",
            "73 3.9724532387247846\n",
            "74 3.9724532387247846\n",
            "75 3.9724532387247846\n",
            "76 3.9724532387247846\n",
            "77 3.9724532387247846\n",
            "78 3.9724532387247846\n",
            "79 3.9724532387247846\n",
            "80 3.9724532387247846\n",
            "81 3.9724532387247846\n",
            "82 3.9724532387247846\n",
            "83 3.9724532387247846\n",
            "84 3.9724532387247846\n",
            "85 3.9724532387247846\n",
            "86 3.9724532387247846\n",
            "87 3.9724532387247846\n",
            "88 3.9724532387247846\n",
            "89 3.9724532387247846\n",
            "90 3.9724532387247846\n",
            "91 3.9724532387247846\n",
            "92 3.9724532387247846\n",
            "93 3.9724532387247846\n",
            "94 3.9724532387247846\n",
            "95 3.9724532387247846\n",
            "96 3.9724532387247846\n",
            "97 3.9724532387247846\n",
            "98 3.9724532387247846\n",
            "99 3.9724532387247846\n"
          ]
        }
      ]
    }
  ]
}